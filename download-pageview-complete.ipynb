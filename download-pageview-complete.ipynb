{
 "cells": [
  {
   "cell_type": "code",
   "execution_count": null,
   "id": "c1752505",
   "metadata": {},
   "outputs": [],
   "source": [
    "%load_ext autoreload\n",
    "%autoreload 2\n",
    "import pyspark\n",
    "import lsde2021.download as dl\n",
    "import lsde2021.aggregate as agg\n",
    "from lsde2021.types import PathLike\n",
    "from dateutil.relativedelta import relativedelta\n",
    "from pyspark.sql import SparkSession\n",
    "from functools import partial\n",
    "from pprint import pprint\n",
    "from pathlib import Path\n",
    "from typing import Tuple\n",
    "import datetime\n",
    "import pandas as pd\n",
    "import gc"
   ]
  },
  {
   "cell_type": "code",
   "execution_count": null,
   "id": "456bb3ce",
   "metadata": {},
   "outputs": [],
   "source": [
    "MAX_MEMORY = \"60G\"\n",
    "\n",
    "spark = SparkSession \\\n",
    "    .builder \\\n",
    "    .appName(\"download-pageview-complete\") \\\n",
    "    .config(\"spark.executor.memory\", MAX_MEMORY) \\\n",
    "    .config(\"spark.driver.memory\", MAX_MEMORY) \\\n",
    "    .config('spark.driver.maxResultSize', MAX_MEMORY) \\\n",
    "    .config('spark.ui.showConsoleProgress', 'false') \\\n",
    "    .getOrCreate()\n",
    "sc = spark.sparkContext"
   ]
  },
  {
   "cell_type": "code",
   "execution_count": null,
   "id": "96e7d917",
   "metadata": {},
   "outputs": [],
   "source": [
    "def download_wikipedia_pageview_complete_handler(\n",
    "    item: Tuple[datetime.date, str],\n",
    "    dest: PathLike,\n",
    "    monthly: bool = False,\n",
    "    kind: str = \"user\",\n",
    "    force: bool = False,\n",
    ") -> Tuple[datetime.date, PathLike]:\n",
    "    date, url = item\n",
    "    filename = Path(\n",
    "        \"/\".join(\n",
    "            dl.wikimedia_pageview_complete_local_file(date, monthly=monthly, kind=kind)\n",
    "        )\n",
    "    )\n",
    "    destination = dest / filename\n",
    "    pageview_columns = [\"wiki_code\", \"page_title\", \"page_id\", \"user_client\", \"daily_total\", \"hourly_count\"]\n",
    "    \n",
    "    def validate_file_func(_destination: PathLike) -> bool:\n",
    "        ok_file = Path(_destination).with_suffix(\".ok\")\n",
    "        if not force and _destination.exists() and ok_file.exists():\n",
    "            return True\n",
    "        if not force and _destination.exists():\n",
    "            try:\n",
    "                # try to open the file\n",
    "                df = pd.read_csv(_destination, sep=' ', names=pageview_columns)\n",
    "                del df\n",
    "                gc.collect()\n",
    "            except Exception as e:\n",
    "                return False\n",
    "            ok_file.touch()\n",
    "            return True\n",
    "        return False\n",
    "\n",
    "    return date, dl.download_file(\n",
    "        url, destination=destination, force=force, validate_file_func=validate_file_func\n",
    "    )"
   ]
  },
  {
   "cell_type": "code",
   "execution_count": null,
   "id": "6dcec69d",
   "metadata": {},
   "outputs": [],
   "source": [
    "pageview_complete_dest = Path(\"../hdd/pageview_complete\")\n",
    "end_date = datetime.date(2021, 10, 1)"
   ]
  },
  {
   "cell_type": "code",
   "execution_count": null,
   "id": "3c61fe53",
   "metadata": {},
   "outputs": [],
   "source": [
    "# optional: remove all .ok files\n",
    "# only do this if you really want to check all the csv files if they can be parsed!!!\n",
    "# warning: it will take forever and use a lot of RAM!\n",
    "if False:\n",
    "    ok_files = list(pageview_complete_dest.rglob(\"**/*.ok\"))\n",
    "    for ok_file in ok_files:\n",
    "        ok_file.unlink()"
   ]
  },
  {
   "cell_type": "code",
   "execution_count": null,
   "id": "fe623bf9",
   "metadata": {
    "scrolled": true
   },
   "outputs": [],
   "source": [
    "expected_daily_downloaded = []\n",
    "for year in [2018, 2019, 2020, 2021]:\n",
    "    daily_range = list(dl.date_range(\n",
    "        datetime.date(year, 1, 1),\n",
    "        datetime.date(year, 12, 31),\n",
    "    ))\n",
    "    \n",
    "    daily_range = [d for d in daily_range if (end_date - d).total_seconds() > 0]\n",
    "    expected_daily_downloaded += daily_range\n",
    "    \n",
    "    print(f\"downloading {len(daily_range)} days for year {year} ...\")\n",
    "    \n",
    "    downloaded = sc.parallelize(\n",
    "        dl.wikimedia_pageview_complete_urls(daily_range),\n",
    "        numSlices=4\n",
    "    ).map(\n",
    "        partial(\n",
    "            download_wikipedia_pageview_complete_handler,\n",
    "            dest=pageview_complete_dest,\n",
    "            monthly=False,\n",
    "            force=False\n",
    "        )\n",
    "    ).collect()"
   ]
  },
  {
   "cell_type": "code",
   "execution_count": null,
   "id": "2f5cde5a",
   "metadata": {},
   "outputs": [],
   "source": [
    "expected_daily_downloaded_filenames = [\n",
    "    Path(\"/\".join(dl.wikimedia_pageview_complete_local_file(date, monthly=False)))\n",
    "    for date in expected_daily_downloaded\n",
    "]\n",
    "\n",
    "pageview_complete_dest = Path(\"../hdd/pageview_complete\")\n",
    "actual_filenames = [\n",
    "    f.relative_to(\"../hdd/pageview_complete\")\n",
    "    for f in pageview_complete_dest.glob(\"**/*.bz2\")\n",
    "]\n",
    "\n",
    "diff = set(expected_daily_downloaded_filenames) - set(actual_filenames)\n",
    "assert len(diff) == 0"
   ]
  },
  {
   "cell_type": "code",
   "execution_count": null,
   "id": "81a89590",
   "metadata": {},
   "outputs": [],
   "source": [
    "expected_monthly_downloaded = []\n",
    "for year in [2018, 2019, 2020, 2021]:\n",
    "    monthly_range = list(dl.date_range(\n",
    "        datetime.date(year, 1, 1),\n",
    "        datetime.date(year, 12, 1),\n",
    "        interval=relativedelta(months=+1),\n",
    "    ))\n",
    "    \n",
    "    monthly_range = [d for d in monthly_range if (end_date - d).total_seconds() > 0]\n",
    "    expected_monthly_downloaded += monthly_range\n",
    "    \n",
    "    print(f\"downloading {len(monthly_range)} months for year {year} ...\")\n",
    "    \n",
    "    downloaded = sc.parallelize(\n",
    "        dl.wikimedia_pageview_complete_urls(monthly_range),\n",
    "        numSlices=4\n",
    "    ).map(\n",
    "        partial(\n",
    "            download_wikipedia_pageview_complete_handler,\n",
    "            dest=pageview_complete_dest,\n",
    "            monthly=True,\n",
    "            force=False\n",
    "        )\n",
    "    ).collect()"
   ]
  },
  {
   "cell_type": "code",
   "execution_count": null,
   "id": "25e3f8bd",
   "metadata": {},
   "outputs": [],
   "source": [
    "# sc.stop()"
   ]
  }
 ],
 "metadata": {
  "kernelspec": {
   "display_name": "Python 3 (ipykernel)",
   "language": "python",
   "name": "python3"
  },
  "language_info": {
   "codemirror_mode": {
    "name": "ipython",
    "version": 3
   },
   "file_extension": ".py",
   "mimetype": "text/x-python",
   "name": "python",
   "nbconvert_exporter": "python",
   "pygments_lexer": "ipython3",
   "version": "3.9.7"
  }
 },
 "nbformat": 4,
 "nbformat_minor": 5
}
