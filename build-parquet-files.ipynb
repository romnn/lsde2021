{
 "cells": [
  {
   "cell_type": "code",
   "execution_count": null,
   "id": "095d2ba4",
   "metadata": {},
   "outputs": [],
   "source": [
    "%load_ext autoreload\n",
    "%autoreload 2\n",
    "import lsde2021.download as dl\n",
    "import lsde2021.aggregate as agg\n",
    "from lsde2021.types import PathLike\n",
    "from dateutil.relativedelta import relativedelta\n",
    "from functools import partial\n",
    "from pprint import pprint\n",
    "from pathlib import Path\n",
    "from typing import Tuple\n",
    "import itertools\n",
    "import pandas as pd\n",
    "from dask import dataframe as dd\n",
    "import matplotlib.pyplot as plt\n",
    "import datetime\n",
    "import gc\n",
    "import time\n",
    "import numpy as np\n",
    "from tqdm import tqdm\n",
    "\n",
    "from pyspark.sql import SparkSession\n",
    "from pyspark.sql.types import StructType, StructField, StringType, LongType, IntegerType\n",
    "import pyspark.sql.functions as F"
   ]
  },
  {
   "cell_type": "code",
   "execution_count": null,
   "id": "436d71e6-a70c-4e01-96c3-2c1784ac41be",
   "metadata": {},
   "outputs": [],
   "source": [
    "plt.rcParams['figure.figsize'] = (8,4)"
   ]
  },
  {
   "cell_type": "code",
   "execution_count": null,
   "id": "cbed6adf",
   "metadata": {},
   "outputs": [],
   "source": [
    "MAX_MEMORY = \"60G\"\n",
    "\n",
    "spark = SparkSession \\\n",
    "    .builder \\\n",
    "    .appName(\"parse-wikipedia-sql-dumps\") \\\n",
    "    .config(\"spark.executor.memory\", MAX_MEMORY) \\\n",
    "    .config(\"spark.driver.memory\", MAX_MEMORY) \\\n",
    "    .config('spark.driver.maxResultSize', MAX_MEMORY) \\\n",
    "    .config('spark.ui.showConsoleProgress', 'false') \\\n",
    "    .getOrCreate()\n",
    "sc = spark.sparkContext\n",
    "\n",
    "csv_loader = spark.read.format(\"csv\").options(header='True', inferSchema='True')"
   ]
  },
  {
   "cell_type": "code",
   "execution_count": null,
   "id": "73ac940b-6bdc-4d88-b007-4ce5a62e04c5",
   "metadata": {},
   "outputs": [],
   "source": [
    "src_dir = Path(\"../hdd/wikipedia_sql_dumps\")\n",
    "dest = Path(\"../nvme/wikipedia_sql_dumps\")\n",
    "tables = [\"langlinks\", \"page\", \"category\", \"categorylinks\"]\n",
    "\n",
    "languages = pd.read_csv(\"./data/languages.csv\", index_col=\"code\")\n",
    "languages.head()"
   ]
  },
  {
   "cell_type": "code",
   "execution_count": null,
   "id": "7a2fab0c-857c-48ac-9a25-181f4657cecb",
   "metadata": {},
   "outputs": [],
   "source": [
    "#### Parse CSV files and convert to correct data dypes using chunking\n",
    "wikis = languages[\"dbname\"]\n",
    "wikis = [w for w in wikis if w != \"enwiki\"]\n",
    "assert \"enwiki\" not in wikis\n",
    "# wikis = [\"enwiki\"]\n",
    "parsed = list([\n",
    "    (table, (src_dir / \"/\".join(dl.wikimedia_sql_dump_local_file(date, wiki=wiki, table=table))).with_suffix(\".csv\"))\n",
    "    for (date, wiki, table), _ in dl.wikimedia_sql_dump_urls(\n",
    "        [datetime.date(2021, 10, 1)], wikis=wikis, tables=tables\n",
    "    )\n",
    "])\n",
    "pprint(parsed[:5])"
   ]
  },
  {
   "cell_type": "code",
   "execution_count": null,
   "id": "fb171546-2291-48a7-9d54-bb074f1fb8a3",
   "metadata": {},
   "outputs": [],
   "source": [
    "def convert_to_parquet(parsed_dumps, force=False):\n",
    "    for table, file_path in parsed_dumps:\n",
    "        start = time.time()\n",
    "        df = csv_loader.load(str(file_path))\n",
    "        output_path = (dest / file_path.relative_to(src_dir)).with_suffix(\".parquet\")\n",
    "        if not force and output_path.exists():\n",
    "            print(f\"using existing {output_path} ...\")\n",
    "            continue\n",
    "        df.write.format(\"parquet\").mode(\"overwrite\").save(str(output_path))\n",
    "        print(f\"wrote {output_path} in {time.time() - start:.2f} seconds\")\n",
    "        gc.collect()"
   ]
  },
  {
   "cell_type": "code",
   "execution_count": null,
   "id": "0ef92a4c-1aed-4906-9f04-ed072454f360",
   "metadata": {},
   "outputs": [],
   "source": [
    "convert_to_parquet(parsed, force=True)"
   ]
  },
  {
   "cell_type": "code",
   "execution_count": null,
   "id": "42897aa8",
   "metadata": {},
   "outputs": [],
   "source": [
    "years = [2018] # , 2019, 2020, 2021]\n",
    "months = range(1,13)\n",
    "days = [1] # , 15]\n",
    "end_date = datetime.date(2021, 10, 1)\n",
    "pageview_samples = [\n",
    "    datetime.date(year, month, day) for year, month, day in itertools.product(years, months, days)\n",
    "]\n",
    "pageview_samples = [d for d in pageview_samples if (end_date - d).total_seconds() > 0]\n",
    "\n",
    "pageview_complete_src_dir = Path(\"../hdd/pageview_complete\")\n",
    "pageview_complete_dest_dir = Path(\"../nvme/pageview_complete\")\n",
    "\n",
    "pageview_sample_files = [\n",
    "    pageview_complete_dir / \"/\".join(dl.wikimedia_pageview_complete_local_file(date, monthly=False))\n",
    "    for date in pageview_samples\n",
    "]\n",
    "print(f\"building {len(pageview_sample_files)} files\")\n",
    "pprint(pageview_sample_files)"
   ]
  },
  {
   "cell_type": "code",
   "execution_count": null,
   "id": "99ba9491",
   "metadata": {},
   "outputs": [],
   "source": [
    "languages = pd.read_csv(\"./data/languages.csv\", index_col=\"code\")\n",
    "languages.head()"
   ]
  },
  {
   "cell_type": "code",
   "execution_count": null,
   "id": "deda588e",
   "metadata": {},
   "outputs": [],
   "source": [
    "%%time\n",
    "for date, f in tqdm(list(zip(pageview_samples, pageview_sample_files))):\n",
    "    df = pd.read_csv(\n",
    "        f,\n",
    "        sep=' ',\n",
    "        names=pageview_columns,\n",
    "        low_memory=False,\n",
    "        dtype=pageview_dtype,\n",
    "        on_bad_lines=\"skip\",\n",
    "        # nrows=1_000_000,\n",
    "        usecols=[\"wiki_code\", \"page_id\", \"daily_total\"], # \"page_title\"\n",
    "        engine=\"c\",\n",
    "    )\n",
    "    # df = df.compute()\n",
    "    \n",
    "    # parse and reduce \n",
    "    df = df[df[\"wiki_code\"].notna()]\n",
    "    df[\"wiki_code\"] = df[\"wiki_code\"].apply(lambda c: c.split(\".\")[0])\n",
    "    df[\"page_id\"] = pd.to_numeric(df[\"page_id\"], errors='coerce')\n",
    "    df = df[df[\"page_id\"].notna()]\n",
    "    df[\"page_id\"] = df[\"page_id\"].astype(\"int32\")\n",
    "    df[\"daily_total\"] = pd.to_numeric(df[\"daily_total\"], errors='coerce')\n",
    "    df[\"daily_total\"] = df[\"daily_total\"].fillna(0).astype(\"Int32\")\n",
    "    df = df.rename(columns={\n",
    "        \"daily_total\": f\"{date.year}{str(date.month).zfill(2)}{str(date.day).zfill(2)}_daily_total\",\n",
    "    })\n",
    "    df = df.set_index(index_cols)\n",
    "    df = df.groupby(index_cols).sum()\n",
    "    if dfs is None:\n",
    "        dfs = df\n",
    "    else:\n",
    "        dfs = dfs.join(df, on=index_cols, how=\"outer\") # \"page_title\"\n",
    "\n",
    "    del df\n",
    "    gc.collect()\n",
    "    \n",
    "    # print(dfs.dtypes)\n",
    "    print(dfs.shape)\n",
    "\n",
    "dfs.head()"
   ]
  }
 ],
 "metadata": {
  "kernelspec": {
   "display_name": "Python 3 (ipykernel)",
   "language": "python",
   "name": "python3"
  },
  "language_info": {
   "codemirror_mode": {
    "name": "ipython",
    "version": 3
   },
   "file_extension": ".py",
   "mimetype": "text/x-python",
   "name": "python",
   "nbconvert_exporter": "python",
   "pygments_lexer": "ipython3",
   "version": "3.9.7"
  }
 },
 "nbformat": 4,
 "nbformat_minor": 5
}
