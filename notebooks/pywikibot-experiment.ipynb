{
 "cells": [
  {
   "cell_type": "code",
   "execution_count": null,
   "id": "8b53a7ea",
   "metadata": {},
   "outputs": [],
   "source": [
    "%pip install -U pywikibot mwparserfromhell"
   ]
  },
  {
   "cell_type": "code",
   "execution_count": null,
   "id": "11950258",
   "metadata": {},
   "outputs": [],
   "source": [
    "import pywikibot\n",
    "from pprint import pprint\n",
    "\n",
    "site = pywikibot.Site(\"de\", \"wikipedia\")\n",
    "page = pywikibot.Page(site, \"Douglas Adams\")\n",
    "item = page.data_item()\n",
    "\n",
    "def filter_hidden_categories(categories):\n",
    "    # also possible: \"hidden\" not in cat.categoryinfo\n",
    "    return [cat for cat in categories if not cat.isHiddenCategory()]\n",
    "\n",
    "categories = [\n",
    "    dict(title=cat.title(),\n",
    "         pages=cat.categoryinfo.get(\"pages\"),\n",
    "         subcategories=filter_hidden_categories(cat.subcategories()),\n",
    "         subcategory_count=cat.categoryinfo.get(\"subcats\"),\n",
    "    )\n",
    "    for cat in filter_hidden_categories(page.categories())\n",
    "]\n",
    "pprint(categories)\n",
    "pprint(item.properties())"
   ]
  },
  {
   "cell_type": "code",
   "execution_count": null,
   "id": "30f51a0d",
   "metadata": {},
   "outputs": [],
   "source": [
    "import pywikibot\n",
    "site = pywikibot.Site('wikipedia:en')\n",
    "repo = site.data_repository()  # the Wikibase repository for given site\n",
    "page = repo.page_from_repository('Q91')  # create a local page for the given item\n",
    "item = pywikibot.ItemPage(repo, 'Q91')  # a repository item\n",
    "data = item.get()  # get all item data from repository for this item"
   ]
  }
 ],
 "metadata": {
  "kernelspec": {
   "display_name": "Python 3 (ipykernel)",
   "language": "python",
   "name": "python3"
  },
  "language_info": {
   "codemirror_mode": {
    "name": "ipython",
    "version": 3
   },
   "file_extension": ".py",
   "mimetype": "text/x-python",
   "name": "python",
   "nbconvert_exporter": "python",
   "pygments_lexer": "ipython3",
   "version": "3.9.7"
  }
 },
 "nbformat": 4,
 "nbformat_minor": 5
}
