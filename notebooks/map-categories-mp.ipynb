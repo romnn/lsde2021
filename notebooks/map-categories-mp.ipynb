{
 "cells": [
  {
   "cell_type": "code",
   "execution_count": null,
   "id": "8c91e9fe-904a-4f2d-b88e-3411ab607057",
   "metadata": {},
   "outputs": [],
   "source": [
    "%load_ext autoreload\n",
    "%autoreload 2\n",
    "import pandas as pd\n",
    "import bz2\n",
    "import csv\n",
    "import io\n",
    "import re\n",
    "import time\n",
    "import json\n",
    "import random\n",
    "import requests\n",
    "from tqdm import tqdm\n",
    "import multiprocessing\n",
    "import concurrent.futures\n",
    "import pickle as pkl\n",
    "import numpy as np\n",
    "import networkx as nx\n",
    "from functools import partial, reduce\n",
    "from collections import Counter\n",
    "from pathlib import Path\n",
    "from pprint import pprint\n",
    "from typing import List, Dict\n",
    "import matplotlib.pyplot as plt\n",
    "import lsde2021.csv as csvutil\n",
    "import lsde2021.utils as utils\n",
    "import lsde2021.topics as topics\n",
    "from lsde2021.lang import singularize, pluralize\n",
    "import lsde2021.download as dl\n",
    "from pyspark.sql import SparkSession, DataFrame\n",
    "import pyspark.sql.types as T\n",
    "import pyspark.sql.functions as F"
   ]
  },
  {
   "cell_type": "code",
   "execution_count": null,
   "id": "bb114a83-d42e-4d4b-b040-0fa94d4b0c2e",
   "metadata": {},
   "outputs": [],
   "source": [
    "with open(\"../nvme/en_topics/all_page_ids.pkl\", 'rb') as f:\n",
    "    all_page_ids = pkl.load(f)\n",
    "print(len(all_page_ids))"
   ]
  },
  {
   "cell_type": "code",
   "execution_count": null,
   "id": "9470006c-dc5f-4d94-80a5-ed6ac2607866",
   "metadata": {},
   "outputs": [],
   "source": [
    "def find_topics_worker(page_ids, depth_limit, max_categories):\n",
    "    graph = nx.read_gpickle(f\"../nvme/en-category-tree-without-hidden.pkl\")\n",
    "    start = page_ids[0][0]\n",
    "    \n",
    "    bk_dir = Path(\"../nvme/en_topics/savepoints\")\n",
    "    bk_dir.mkdir(parents=True, exist_ok=True)\n",
    "    \n",
    "    save_every = 5_000\n",
    "    results = dict()\n",
    "    for i, page_id in page_ids:\n",
    "        try:\n",
    "            results[page_id] = topics.find_topics(page_id, g=graph, depth_limit=depth_limit, max_categories=max_categories)\n",
    "        except Exception as e:\n",
    "            print(e)\n",
    "            pass\n",
    "        if i >= save_every and i % save_every == 0:\n",
    "            with open(bk_dir / f\"page_topics_{start}_{i}.pkl\", 'wb') as f:\n",
    "                pkl.dump(results, f, protocol=pkl.HIGHEST_PROTOCOL)\n",
    "    return results"
   ]
  },
  {
   "cell_type": "code",
   "execution_count": null,
   "id": "fde227d2-7f65-4824-bf58-419651090bce",
   "metadata": {},
   "outputs": [],
   "source": [
    "n_parallel = 2\n",
    "chunk_size = int(np.ceil(len(all_page_ids) / n_parallel))\n",
    "tasks = []\n",
    "start = time.time()\n",
    "\n",
    "with concurrent.futures.ProcessPoolExecutor(max_workers=n_parallel) as executor:\n",
    "    for worker_id in range(n_parallel):\n",
    "        worker_page_ids = all_page_ids[worker_id * chunk_size: (worker_id + 1) * chunk_size]\n",
    "        print(worker_page_ids[:5])\n",
    "        print(\"worker %d got assigned %d page ids\" % (worker_id, len(worker_page_ids)))\n",
    "        tasks.append(executor.submit(partial(find_topics_worker, depth_limit=4, max_categories=5), worker_page_ids))\n",
    "\n",
    "results = dict()\n",
    "for worker_id, task in enumerate(tasks):\n",
    "    results.update(task.result())\n",
    "    print(\"worker %d done\" % worker_id)\n",
    "\n",
    "print(\"took %.2f hours\" % ((time.time() - start)/(60*60)))\n",
    "print(len(results))\n",
    "pprint(list(results.items())[0])"
   ]
  },
  {
   "cell_type": "code",
   "execution_count": null,
   "id": "ddba36d0-8cef-4f65-b220-9e96fd281921",
   "metadata": {},
   "outputs": [],
   "source": [
    "with open(f\"../nvme/en_topics/topics_final.pkl\", 'wb') as f:\n",
    "    pkl.dump(results, f, protocol=pkl.HIGHEST_PROTOCOL)"
   ]
  },
  {
   "cell_type": "code",
   "execution_count": null,
   "id": "4cec1b51-5f01-4d72-a52f-8da7353956d4",
   "metadata": {},
   "outputs": [],
   "source": [
    "MAX_MEMORY = \"30G\"\n",
    "\n",
    "spark = SparkSession \\\n",
    "    .builder \\\n",
    "    .appName(\"parse-wikipedia-sql-dumps\") \\\n",
    "    .config(\"spark.executor.memory\", MAX_MEMORY) \\\n",
    "    .config(\"spark.driver.memory\", MAX_MEMORY) \\\n",
    "    .config('spark.driver.maxResultSize', MAX_MEMORY) \\\n",
    "    .config('spark.ui.showConsoleProgress', 'false') \\\n",
    "    .getOrCreate()\n",
    "sc = spark.sparkContext"
   ]
  },
  {
   "cell_type": "code",
   "execution_count": null,
   "id": "afbfd383-edd5-4bf7-9b1c-80cca6ad10d1",
   "metadata": {},
   "outputs": [],
   "source": [
    "schema = T.StructType([\n",
    "    T.StructField('page_id', T.IntegerType(), False),\n",
    "    T.StructField('topics1', T.ArrayType(T.StringType()), False),\n",
    "    T.StructField('topics2', T.ArrayType(T.StringType()), False),\n",
    "    T.StructField('topics3', T.ArrayType(T.StringType()), False),\n",
    "    T.StructField('topics4', T.ArrayType(T.StringType()), False),\n",
    "])\n",
    "\n",
    "df = spark.createDataFrame([\n",
    "    dict(page_id=page_id, topics1=topics.get(1, []), topics2=topics.get(2, []), topics3=topics.get(3, []), topics4=topics.get(4, []))\n",
    "    for page_id, topics in results.items()\n",
    "], schema)\n",
    "df.show()"
   ]
  },
  {
   "cell_type": "code",
   "execution_count": null,
   "id": "762f04b6-452f-4e67-8fa6-f558084b555e",
   "metadata": {},
   "outputs": [],
   "source": [
    "df.write.format(\"parquet\").mode(\"overwrite\").save(f\"../nvme/en_topics/topics_final.parquet\")"
   ]
  },
  {
   "cell_type": "code",
   "execution_count": null,
   "id": "425099b6-6082-4bc5-9bfe-739ad6c567c2",
   "metadata": {},
   "outputs": [],
   "source": [
    "df.show()"
   ]
  }
 ],
 "metadata": {
  "kernelspec": {
   "display_name": "Python 3 (ipykernel)",
   "language": "python",
   "name": "python3"
  },
  "language_info": {
   "codemirror_mode": {
    "name": "ipython",
    "version": 3
   },
   "file_extension": ".py",
   "mimetype": "text/x-python",
   "name": "python",
   "nbconvert_exporter": "python",
   "pygments_lexer": "ipython3",
   "version": "3.9.7"
  }
 },
 "nbformat": 4,
 "nbformat_minor": 5
}
