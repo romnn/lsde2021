{
 "cells": [
  {
   "cell_type": "code",
   "execution_count": null,
   "id": "686f4d78",
   "metadata": {},
   "outputs": [],
   "source": [
    "%load_ext autoreload\n",
    "%autoreload 2\n",
    "import lsde2021.download as dl\n",
    "import lsde2021.aggregate as agg\n",
    "from lsde2021.types import PathLike\n",
    "from dateutil.relativedelta import relativedelta\n",
    "from functools import partial\n",
    "from pprint import pprint\n",
    "from pathlib import Path\n",
    "from typing import Tuple\n",
    "import itertools\n",
    "import pandas as pd\n",
    "from dask import dataframe as dd\n",
    "import matplotlib.pyplot as plt\n",
    "import datetime\n",
    "import gc\n",
    "import numpy as np\n",
    "from tqdm import tqdm"
   ]
  },
  {
   "cell_type": "code",
   "execution_count": null,
   "id": "0a770ee0",
   "metadata": {},
   "outputs": [],
   "source": [
    "plt.rcParams['figure.figsize'] = (8,4)"
   ]
  },
  {
   "cell_type": "code",
   "execution_count": null,
   "id": "964f0832",
   "metadata": {},
   "outputs": [],
   "source": [
    "# data exploration statistics\n",
    "years = [2018] # , 2019, 2020, 2021]\n",
    "months = range(1,13)\n",
    "days = [1] # , 15]\n",
    "end_date = datetime.date(2021, 10, 1)\n",
    "pageview_samples = [\n",
    "    datetime.date(year, month, day) for year, month, day in itertools.product(years, months, days)\n",
    "]\n",
    "pageview_samples = [d for d in pageview_samples if (end_date - d).total_seconds() > 0]\n",
    "\n",
    "pageview_src_complete_dir = Path(\"../hdd/pageview_complete\")\n",
    "pageview_complete_dir = Path(\"../nvme/pageview_complete\")\n",
    "pageview_sample_files = [\n",
    "    pageview_complete_dir / \"/\".join(dl.wikimedia_pageview_complete_local_file(date, monthly=False))\n",
    "    for date in pageview_samples\n",
    "]\n",
    "print(f\"analyzing {len(pageview_sample_files)} files\")\n",
    "pprint(pageview_sample_files)"
   ]
  },
  {
   "cell_type": "code",
   "execution_count": null,
   "id": "1b15694c",
   "metadata": {},
   "outputs": [],
   "source": [
    "for year in [2018, 2019, 2020, 2021]:\n",
    "    print(\"%d: checked %d of %d\" % (\n",
    "        year,\n",
    "        len(list((pageview_src_complete_dir / str(year)).rglob(\"**/*.ok\"))),\n",
    "        len(list((pageview_src_complete_dir / str(year)).rglob(\"**/*.bz2\")))\n",
    "    ))\n",
    "    pprint(list(\n",
    "            set([str(p.with_suffix(\".ok\")) for p in (pageview_src_complete_dir / str(year)).rglob(\"**/*.bz2\")]) - \n",
    "            set([str(p) for p in (pageview_src_complete_dir / str(year)).rglob(\"**/*.ok\")])\n",
    "    ))"
   ]
  },
  {
   "cell_type": "code",
   "execution_count": null,
   "id": "f6632136",
   "metadata": {},
   "outputs": [],
   "source": [
    "pageview_columns = [\"wiki_code\", \"page_title\", \"page_id\", \"user_client\", \"daily_total\", \"hourly_count\"]\n",
    "index_cols = [\"wiki_code\", \"page_id\"]\n",
    "pageview_dtype = {\n",
    "    \"wiki_code\": \"category\",\n",
    "    # \"page_title\": \"string\",\n",
    "    \"page_id\": \"category\", # will be parsed to int\n",
    "    # \"user_client\": \"string\",\n",
    "    \"daily_total\": \"string\", # will be parsed to int\n",
    "    # \"hourly_count\": \"string\", # from 0 to 23, written as 0 = A, 1 = B ... 22 = W, 23 = X, will be parsed\n",
    "}\n",
    "\n",
    "languages = pd.read_csv(\"./data/languages.csv\", index_col=\"code\")\n",
    "languages.head()"
   ]
  },
  {
   "cell_type": "code",
   "execution_count": null,
   "id": "0443a63d",
   "metadata": {
    "scrolled": true
   },
   "outputs": [],
   "source": [
    "# load and combine all raw daily csv files\n",
    "dfs = None\n",
    "for date, f in tqdm(list(zip(pageview_samples, pageview_sample_files))):\n",
    "    df = pd.read_csv(\n",
    "        f,\n",
    "        sep=' ',\n",
    "        names=pageview_columns,\n",
    "        low_memory=False,\n",
    "        dtype=pageview_dtype,\n",
    "        on_bad_lines=\"skip\",\n",
    "        # nrows=1_000_000,\n",
    "        usecols=[\"wiki_code\", \"page_id\", \"daily_total\"], # \"page_title\"\n",
    "        engine=\"c\",\n",
    "    )\n",
    "    \n",
    "    # parse and reduce \n",
    "    df = df[df[\"wiki_code\"].notna()]\n",
    "    df[\"wiki_code\"] = df[\"wiki_code\"].apply(lambda c: c.split(\".\")[0])\n",
    "    df[\"page_id\"] = pd.to_numeric(df[\"page_id\"], errors='coerce')\n",
    "    df = df[df[\"page_id\"].notna()]\n",
    "    df[\"page_id\"] = df[\"page_id\"].astype(\"int32\")\n",
    "    df[\"daily_total\"] = pd.to_numeric(df[\"daily_total\"], errors='coerce')\n",
    "    df[\"daily_total\"] = df[\"daily_total\"].fillna(0).astype(\"Int32\")\n",
    "    df = df.rename(columns={\n",
    "        \"daily_total\": f\"{date.year}{str(date.month).zfill(2)}{str(date.day).zfill(2)}_daily_total\",\n",
    "    })\n",
    "    df = df.set_index(index_cols)\n",
    "    df = df.groupby(index_cols).sum()\n",
    "    if dfs is None:\n",
    "        dfs = df\n",
    "    else:\n",
    "        dfs = dfs.join(df, on=index_cols, how=\"outer\") # \"page_title\"\n",
    "\n",
    "    del df\n",
    "    gc.collect()\n",
    "    \n",
    "    # print(dfs.dtypes)\n",
    "    print(dfs.shape)\n",
    "\n",
    "dfs.head()"
   ]
  },
  {
   "cell_type": "code",
   "execution_count": null,
   "id": "a98af592",
   "metadata": {},
   "outputs": [],
   "source": [
    "total_page_count = dfs.shape[0]\n",
    "assert dfs.groupby(index_cols).count().shape[0] == total_page_count"
   ]
  },
  {
   "cell_type": "code",
   "execution_count": null,
   "id": "689f1005",
   "metadata": {},
   "outputs": [],
   "source": [
    "plot_dir = Path(\"./plots\")\n",
    "plot_dir.mkdir(parents=True, exist_ok=True)"
   ]
  },
  {
   "cell_type": "code",
   "execution_count": null,
   "id": "70076126",
   "metadata": {},
   "outputs": [],
   "source": [
    "daily_page_count = dfs.loc[:, ~dfs.columns.isin(['mean'])]\n",
    "dfs[\"mean\"] = daily_page_count.mean(axis=1).astype(\"int32\")\n",
    "total_page_views = dfs[\"mean\"].sum()\n",
    "dfs.head()"
   ]
  },
  {
   "cell_type": "code",
   "execution_count": null,
   "id": "dc9ab603",
   "metadata": {},
   "outputs": [],
   "source": [
    "# save the samples\n",
    "dfs.to_csv(pageview_src_complete_dir / \"samples.csv\", index=True) # .bz2"
   ]
  },
  {
   "cell_type": "code",
   "execution_count": null,
   "id": "ade6331c",
   "metadata": {},
   "outputs": [],
   "source": [
    "# % of pages with less than X views per day (can we remove them?)\n",
    "min_views = 100\n",
    "less_than_min_views = (dfs[\"mean\"] < min_views).sum()\n",
    "print(\"percent of pages with less than %d views per day: %.2f\" % (\n",
    "    min_views, 100*less_than_min_views/total_page_count\n",
    ")) "
   ]
  },
  {
   "cell_type": "code",
   "execution_count": null,
   "id": "44e88c31",
   "metadata": {},
   "outputs": [],
   "source": [
    "# How many % of total page views make up the top N most popular pages?\n",
    "top = dfs.sort_values(by=\"mean\", ascending=False)\n",
    "for n in [100, 1_000, 10_000, 100_000]:\n",
    "    top_n = top.iloc[:n,:]\n",
    "    print(\"percent of total page views from top %d (%.5f percent) pages only: %.2f\" % (\n",
    "        n, n/total_page_count*100, 100*top_n[\"mean\"].sum()/total_page_views\n",
    "    ))"
   ]
  },
  {
   "cell_type": "code",
   "execution_count": null,
   "id": "c66ebf38",
   "metadata": {},
   "outputs": [],
   "source": [
    "# mean and std dev of page views per day (absolute)\n",
    "print(\"mean absolute page views per day: %.2f\" % (daily_page_count.mean(axis=1).mean()))\n",
    "print(\"stddev absolute page views per day: %.2f\" % (daily_page_count.mean(axis=1).std()))"
   ]
  },
  {
   "cell_type": "code",
   "execution_count": null,
   "id": "6142793a",
   "metadata": {},
   "outputs": [],
   "source": [
    "# mean and std page views per country code per day (absolute and relative)\n",
    "per_country = daily_page_count.groupby(\"wiki_code\").sum()\n",
    "\n",
    "per_country[\"abs_mean\"] = per_country.mean(axis=1).astype(\"int\")\n",
    "per_country[\"rel_mean\"] = (per_country / total_page_views).mean(axis=1)\n",
    "\n",
    "per_country[\"abs_std\"] = per_country.std(axis=1).astype(\"int\")\n",
    "per_country[\"rel_std\"] = (per_country / total_page_views).std(axis=1)\n",
    "\n",
    "per_country = per_country.sort_values(by=\"abs_mean\", ascending=False)\n",
    "per_country = pd.merge(per_country.reset_index(), languages, left_on='wiki_code', right_on='code')\n",
    "\n",
    "n = 20\n",
    "fig, ax = plt.subplots()\n",
    "ax.bar(per_country.iloc[:n,:][\"name\"].astype(str), per_country.iloc[:n,:][\"abs_mean\"])\n",
    "plt.xticks(rotation=45)\n",
    "plt.xlabel(\"absolute mean daily page views per language\")\n",
    "plt.ylabel(\"language\")\n",
    "plt.title(\"absolute mean daily page views for top %d languages\" % n)\n",
    "plt.tight_layout()\n",
    "plt.savefig(plot_dir / (\"mean_daily_pageviews_top_%d_languages.pdf\" % n))"
   ]
  },
  {
   "cell_type": "code",
   "execution_count": null,
   "id": "b3318714",
   "metadata": {},
   "outputs": [],
   "source": [
    "# mean and std pages visited per day (absolute)\n",
    "print(\"mean pages visited per day: %.2f\" % (daily_page_count.notna().sum().mean()))\n",
    "print(\"stddev pages visited per day: %.2f\" % (daily_page_count.notna().sum().std()))"
   ]
  },
  {
   "cell_type": "code",
   "execution_count": null,
   "id": "9f8b34e0",
   "metadata": {},
   "outputs": [],
   "source": [
    "# mean and std pages visited per country code per day (absolute and relative)\n",
    "per_country = daily_page_count.groupby(\"wiki_code\").apply(lambda x: x.notna().sum()).astype(\"int\")\n",
    "\n",
    "per_country[\"abs_mean\"] = per_country.mean(axis=1).astype(\"int\")\n",
    "per_country[\"rel_mean\"] = (per_country / total_page_count).mean(axis=1)\n",
    "\n",
    "per_country[\"abs_std\"] = per_country.std(axis=1).astype(\"int\")\n",
    "per_country[\"rel_std\"] = (per_country / total_page_views).std(axis=1)\n",
    "\n",
    "per_country = per_country.sort_values(by=\"abs_mean\", ascending=False)\n",
    "per_country = pd.merge(per_country.reset_index(), languages, left_on='wiki_code', right_on='code')\n",
    "\n",
    "n = 20\n",
    "fig, ax = plt.subplots()\n",
    "ax.bar(per_country.iloc[:n,:][\"name\"].astype(str), per_country.iloc[:n,:][\"abs_mean\"])\n",
    "plt.xticks(rotation=45)\n",
    "plt.xlabel(\"absolute mean pages visited per day per language\")\n",
    "plt.ylabel(\"language\")\n",
    "plt.title(\"absolute mean pages visited for top %d languages\" % n)\n",
    "plt.tight_layout()\n",
    "plt.savefig(plot_dir / (\"mean_daily_pages_visited_top_%d_languages.pdf\" % n))"
   ]
  },
  {
   "cell_type": "code",
   "execution_count": null,
   "id": "48b8b954",
   "metadata": {},
   "outputs": [],
   "source": [
    "# for all pages, in how many other days do they occur? (relative)\n",
    "shared_page_count = dfs[dfs.notna().all(axis=1)].shape[0]\n",
    "print(\"percent of shared pages: %.2f\" % (shared_page_count/total_page_count)) "
   ]
  },
  {
   "cell_type": "code",
   "execution_count": null,
   "id": "08be389c",
   "metadata": {},
   "outputs": [],
   "source": [
    "# for all days, how many percent of pages are found in more than X% of days\n",
    "min_days_percent = 0.75\n",
    "page_occurences = daily_page_count.notna().sum(axis=1)\n",
    "page_occurences = (page_occurences / (daily_page_count.shape[1])) >= min_days_percent\n",
    "page_occurences = page_occurences.sum()\n",
    "print(\"percent of pages present in more than %d percent of days: %.2f\" % (\n",
    "    int(min_days_percent * 100),\n",
    "    page_occurences/total_page_count\n",
    "))"
   ]
  },
  {
   "cell_type": "code",
   "execution_count": null,
   "id": "cfcd8d4e",
   "metadata": {},
   "outputs": [],
   "source": [
    "# mean storage size per raw csv (daily and monthly)\n",
    "monthly_csv = set((pageview_src_complete_dir / \"monthly\").rglob(\"**/*.bz2\"))\n",
    "daily_csv = set(pageview_src_complete_dir.rglob(\"**/*.bz2\")) - monthly_csv\n",
    "print(\"average file size daily csv: %.2f MB (%d files)\" % (\n",
    "    np.array([f.stat().st_size for f in daily_csv]).mean() / 1024**2, len(daily_csv)))\n",
    "print(\"average file size monthly csv: %.2f MB (%d files)\" % (\n",
    "    np.array([f.stat().st_size for f in monthly_csv]).mean() / 1024**2, len(monthly_csv)))"
   ]
  },
  {
   "cell_type": "code",
   "execution_count": null,
   "id": "504e2e2e",
   "metadata": {},
   "outputs": [],
   "source": [
    "page_occurences = daily_page_count.notna().sum().mean()\n",
    "print(\"mean number of rows per daily pageview csv: %d\" % int(page_occurences))"
   ]
  }
 ],
 "metadata": {
  "kernelspec": {
   "display_name": "Python 3 (ipykernel)",
   "language": "python",
   "name": "python3"
  },
  "language_info": {
   "codemirror_mode": {
    "name": "ipython",
    "version": 3
   },
   "file_extension": ".py",
   "mimetype": "text/x-python",
   "name": "python",
   "nbconvert_exporter": "python",
   "pygments_lexer": "ipython3",
   "version": "3.9.7"
  }
 },
 "nbformat": 4,
 "nbformat_minor": 5
}
