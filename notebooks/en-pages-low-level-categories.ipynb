{
 "cells": [
  {
   "cell_type": "code",
   "execution_count": null,
   "id": "77545b26-a68e-4d10-98dc-d496d9a0dbd8",
   "metadata": {},
   "outputs": [],
   "source": [
    "%load_ext autoreload\n",
    "%autoreload 2\n",
    "import pandas as pd\n",
    "import bz2\n",
    "import csv\n",
    "import io\n",
    "import json\n",
    "import random\n",
    "import requests\n",
    "from pathlib import Path\n",
    "from pprint import pprint\n",
    "from typing import List, Dict\n",
    "import ores.api\n",
    "from ores.utilities import score_revisions\n",
    "import lsde2021.csv as csvutil\n",
    "import lsde2021.utils as utils\n",
    "import lsde2021.download as dl\n",
    "from pyspark.sql import SparkSession\n",
    "from pyspark.sql.types import StructType, StructField, StringType, LongType, IntegerType\n",
    "import pyspark.sql.functions as F"
   ]
  },
  {
   "cell_type": "code",
   "execution_count": null,
   "id": "452ca4ad-9827-4529-80a1-5bd91cafd39e",
   "metadata": {},
   "outputs": [],
   "source": [
    "MAX_MEMORY = \"60G\"\n",
    "\n",
    "spark = SparkSession \\\n",
    "    .builder \\\n",
    "    .appName(\"parse-wikipedia-sql-dumps\") \\\n",
    "    .config(\"spark.executor.memory\", MAX_MEMORY) \\\n",
    "    .config(\"spark.driver.memory\", MAX_MEMORY) \\\n",
    "    .config('spark.driver.maxResultSize', MAX_MEMORY) \\\n",
    "    .config('spark.ui.showConsoleProgress', 'false') \\\n",
    "    .getOrCreate()\n",
    "sc = spark.sparkContext\n",
    "\n",
    "csv_loader = spark.read.format(\"csv\").options(header='True', inferSchema='True')\n",
    "parquet_reader = spark.read.format(\"parquet\").options(inferSchema='True')"
   ]
  },
  {
   "cell_type": "code",
   "execution_count": null,
   "id": "71a4ead4-47a3-4e60-9192-c577a8ed98ae",
   "metadata": {},
   "outputs": [],
   "source": [
    "# join categories with english wiki page table\n",
    "wiki = \"enwiki\"\n",
    "pages = parquet_reader.load(f\"../nvme/wikipedia_sql_dumps/{wiki}/20211001/{wiki}-20211001-page.sql.parquet\")\n",
    "categorylinks = parquet_reader.load(f\"../nvme/wikipedia_sql_dumps/{wiki}/20211001/{wiki}-20211001-categorylinks.sql.parquet\")"
   ]
  },
  {
   "cell_type": "code",
   "execution_count": null,
   "id": "59776f58-c856-478e-aafa-3eededfdfda3",
   "metadata": {},
   "outputs": [],
   "source": [
    "pages.limit(10).show()\n",
    "categorylinks.limit(10).show()"
   ]
  },
  {
   "cell_type": "code",
   "execution_count": null,
   "id": "20977bd8-0efa-47cc-93c9-c0655e691af6",
   "metadata": {},
   "outputs": [],
   "source": [
    "categorylinks_array = categorylinks \\\n",
    "    .groupBy('page_id') \\\n",
    "    .agg(F.collect_list('category_name').alias('category_names'))\\\n",
    "\n",
    "pages_with_categories = pages \\\n",
    "    .select(\"page_is_redirect\", \"page_id\", \"page_namespace\", \"page_title\")\n",
    "\n",
    "pages_with_categories = pages_with_categories \\\n",
    "    .join(categorylinks_array, on=\"page_id\", how=\"left\")"
   ]
  },
  {
   "cell_type": "code",
   "execution_count": null,
   "id": "f2aa5fa8-2a6c-4691-a4a7-3b75c217fdaf",
   "metadata": {},
   "outputs": [],
   "source": [
    "pages_with_categories.write.format(\"parquet\").mode(\"overwrite\").save(f\"../nvme/wikipedia_sql_dumps/{wiki}/20211001/{wiki}-20211001-page-low-level-categories.sql.parquet\")"
   ]
  },
  {
   "cell_type": "code",
   "execution_count": null,
   "id": "59ddc19e-9e4d-49bf-9e18-e344f1b90d91",
   "metadata": {},
   "outputs": [],
   "source": [
    "# sc.stop()"
   ]
  }
 ],
 "metadata": {
  "kernelspec": {
   "display_name": "Python 3 (ipykernel)",
   "language": "python",
   "name": "python3"
  },
  "language_info": {
   "codemirror_mode": {
    "name": "ipython",
    "version": 3
   },
   "file_extension": ".py",
   "mimetype": "text/x-python",
   "name": "python",
   "nbconvert_exporter": "python",
   "pygments_lexer": "ipython3",
   "version": "3.9.7"
  }
 },
 "nbformat": 4,
 "nbformat_minor": 5
}
