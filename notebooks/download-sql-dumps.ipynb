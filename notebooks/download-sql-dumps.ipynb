{
 "cells": [
  {
   "cell_type": "code",
   "execution_count": null,
   "id": "68ce55a4",
   "metadata": {},
   "outputs": [],
   "source": [
    "%load_ext autoreload\n",
    "%autoreload 2\n",
    "import pyspark\n",
    "import lsde2021.download as dl\n",
    "import lsde2021.aggregate as agg\n",
    "from lsde2021.types import PathLike\n",
    "from dateutil.relativedelta import relativedelta\n",
    "from pyspark.sql import SparkSession\n",
    "from functools import partial\n",
    "from pprint import pprint\n",
    "from pathlib import Path\n",
    "from typing import Tuple\n",
    "import pandas as pd\n",
    "import datetime"
   ]
  },
  {
   "cell_type": "code",
   "execution_count": null,
   "id": "b70794c2",
   "metadata": {},
   "outputs": [],
   "source": [
    "MAX_MEMORY = \"60G\"\n",
    "\n",
    "spark = SparkSession \\\n",
    "    .builder \\\n",
    "    .appName(\"EDA\") \\\n",
    "    .config(\"spark.executor.memory\", MAX_MEMORY) \\\n",
    "    .config(\"spark.driver.memory\", MAX_MEMORY) \\\n",
    "    .config('spark.driver.maxResultSize', MAX_MEMORY) \\\n",
    "    .config('spark.ui.showConsoleProgress', 'false') \\\n",
    "    .getOrCreate()\n",
    "sc = spark.sparkContext"
   ]
  },
  {
   "cell_type": "code",
   "execution_count": null,
   "id": "af1b9496",
   "metadata": {},
   "outputs": [],
   "source": [
    "def download_wikipedia_sql_dump_handler(\n",
    "    item: Tuple[Tuple[datetime.date, str, str], str],\n",
    "    dest: PathLike,\n",
    "    force: bool = False,\n",
    ") -> Tuple[datetime.date, PathLike]:\n",
    "    (date, wiki, table), url = item\n",
    "    filename = Path(\n",
    "        \"/\".join(\n",
    "            dl.wikimedia_sql_dump_local_file(date, wiki=wiki, table=table)\n",
    "        )\n",
    "    )\n",
    "    destination = dest / filename\n",
    "    \n",
    "    def validate_file_func(_destination: PathLike) -> bool:\n",
    "        ok_file = Path(_destination).with_suffix(\".ok\")\n",
    "        if not force and _destination.exists() and ok_file.exists():\n",
    "            return True\n",
    "        if not force and _destination.exists():\n",
    "            ok_file.touch()\n",
    "            return True\n",
    "        return False\n",
    "\n",
    "    return date, dl.download_file(\n",
    "        url, destination=destination, force=force, validate_file_func=validate_file_func\n",
    "    )"
   ]
  },
  {
   "cell_type": "code",
   "execution_count": null,
   "id": "74c3795b",
   "metadata": {},
   "outputs": [],
   "source": [
    "dest = Path(\"../hdd/wikipedia_sql_dumps\")\n",
    "tables = [\"langlinks\", \"page\", \"category\", \"categorylinks\"]\n",
    "\n",
    "languages = pd.read_csv(\"./data/languages.csv\", index_col=\"code\")\n",
    "languages.head()"
   ]
  },
  {
   "cell_type": "code",
   "execution_count": null,
   "id": "11b55cdd",
   "metadata": {},
   "outputs": [],
   "source": [
    "downloads = list(dl.wikimedia_sql_dump_urls(\n",
    "    [datetime.date(2021, 10, 1)], wikis=languages[\"dbname\"], tables=tables))\n",
    "pprint(downloads[:10])"
   ]
  },
  {
   "cell_type": "code",
   "execution_count": null,
   "id": "41c29c13",
   "metadata": {},
   "outputs": [],
   "source": [
    "downloaded = sc.parallelize(downloads, numSlices=4).map(\n",
    "    partial(\n",
    "        download_wikipedia_sql_dump_handler,\n",
    "        dest=dest,\n",
    "        force=False,\n",
    "    )\n",
    ").collect()"
   ]
  }
 ],
 "metadata": {
  "kernelspec": {
   "display_name": "Python 3 (ipykernel)",
   "language": "python",
   "name": "python3"
  },
  "language_info": {
   "codemirror_mode": {
    "name": "ipython",
    "version": 3
   },
   "file_extension": ".py",
   "mimetype": "text/x-python",
   "name": "python",
   "nbconvert_exporter": "python",
   "pygments_lexer": "ipython3",
   "version": "3.9.7"
  }
 },
 "nbformat": 4,
 "nbformat_minor": 5
}
