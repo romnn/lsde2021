{
 "cells": [
  {
   "cell_type": "code",
   "execution_count": 25,
   "id": "d342b235",
   "metadata": {},
   "outputs": [
    {
     "name": "stdout",
     "output_type": "stream",
     "text": [
      "The autoreload extension is already loaded. To reload it, use:\n",
      "  %reload_ext autoreload\n"
     ]
    }
   ],
   "source": [
    "%load_ext autoreload\n",
    "%autoreload 2\n",
    "import pyspark\n",
    "import lsde2021.download as dl\n",
    "import lsde2021.aggregate as agg\n",
    "from lsde2021.types import PathLike\n",
    "from dateutil.relativedelta import relativedelta\n",
    "from pyspark.sql import SparkSession\n",
    "from functools import partial\n",
    "from pprint import pprint\n",
    "from pathlib import Path\n",
    "from typing import Tuple\n",
    "import itertools\n",
    "import pandas as pd\n",
    "import datetime\n",
    "from tqdm import tqdm"
   ]
  },
  {
   "cell_type": "code",
   "execution_count": 2,
   "id": "eeff57ab",
   "metadata": {},
   "outputs": [
    {
     "name": "stderr",
     "output_type": "stream",
     "text": [
      "WARNING: An illegal reflective access operation has occurred\n",
      "WARNING: Illegal reflective access by org.apache.spark.unsafe.Platform (file:/usr/local/spark-3.1.2-bin-hadoop3.2/jars/spark-unsafe_2.12-3.1.2.jar) to constructor java.nio.DirectByteBuffer(long,int)\n",
      "WARNING: Please consider reporting this to the maintainers of org.apache.spark.unsafe.Platform\n",
      "WARNING: Use --illegal-access=warn to enable warnings of further illegal reflective access operations\n",
      "WARNING: All illegal access operations will be denied in a future release\n",
      "21/10/10 22:47:13 WARN NativeCodeLoader: Unable to load native-hadoop library for your platform... using builtin-java classes where applicable\n",
      "Using Spark's default log4j profile: org/apache/spark/log4j-defaults.properties\n",
      "Setting default log level to \"WARN\".\n",
      "To adjust logging level use sc.setLogLevel(newLevel). For SparkR, use setLogLevel(newLevel).\n",
      "21/10/10 22:47:14 WARN Utils: Service 'SparkUI' could not bind on port 4040. Attempting port 4041.\n",
      "21/10/10 22:47:14 WARN Utils: Service 'SparkUI' could not bind on port 4041. Attempting port 4042.\n",
      "21/10/10 22:47:14 WARN Utils: Service 'SparkUI' could not bind on port 4042. Attempting port 4043.\n",
      "21/10/10 22:47:14 WARN Utils: Service 'SparkUI' could not bind on port 4043. Attempting port 4044.\n"
     ]
    }
   ],
   "source": [
    "MAX_MEMORY = \"60G\"\n",
    "\n",
    "spark = SparkSession \\\n",
    "    .builder \\\n",
    "    .appName(\"data-statistics\") \\\n",
    "    .config(\"spark.executor.memory\", MAX_MEMORY) \\\n",
    "    .config(\"spark.driver.memory\", MAX_MEMORY) \\\n",
    "    .config('spark.driver.maxResultSize', MAX_MEMORY) \\\n",
    "    .config('spark.ui.showConsoleProgress', 'false') \\\n",
    "    .getOrCreate()\n",
    "sc = spark.sparkContext"
   ]
  },
  {
   "cell_type": "code",
   "execution_count": 26,
   "id": "76c622d9",
   "metadata": {},
   "outputs": [],
   "source": [
    "# data exploration statistics\n",
    "years = [2018, 2019, 2020, 2021]\n",
    "months = range(1,13)\n",
    "days = [1, 15]\n",
    "pageview_samples = [\n",
    "    datetime.datetime(year, month, day) for year, month, day in itertools.product(years, months, days)\n",
    "]\n",
    "\n",
    "pageview_complete_dir = Path(\"../hdd/pageview_complete\")\n",
    "pageview_sample_files = [\n",
    "    pageview_complete_dir / \"/\".join(dl.wikimedia_pageview_complete_local_file(date, monthly=False))\n",
    "    for date in pageview_samples\n",
    "]\n",
    "# pprint(pageview_sample_files)"
   ]
  },
  {
   "cell_type": "code",
   "execution_count": 52,
   "id": "15d9f875",
   "metadata": {},
   "outputs": [
    {
     "name": "stdout",
     "output_type": "stream",
     "text": [
      "checked 182 of 1414\n"
     ]
    }
   ],
   "source": [
    "print(\"checked %d of %d\" % (\n",
    "    len(list(pageview_complete_dir.rglob(\"**/*.ok\"))), len(list(pageview_complete_dir.rglob(\"**/*.bz2\")))\n",
    "))"
   ]
  },
  {
   "cell_type": "code",
   "execution_count": 51,
   "id": "cae5de7e",
   "metadata": {},
   "outputs": [
    {
     "name": "stdout",
     "output_type": "stream",
     "text": [
      "CPU times: user 17 s, sys: 1.25 s, total: 18.3 s\n",
      "Wall time: 18.3 s\n"
     ]
    },
    {
     "data": {
      "text/html": [
       "<div>\n",
       "<style scoped>\n",
       "    .dataframe tbody tr th:only-of-type {\n",
       "        vertical-align: middle;\n",
       "    }\n",
       "\n",
       "    .dataframe tbody tr th {\n",
       "        vertical-align: top;\n",
       "    }\n",
       "\n",
       "    .dataframe thead th {\n",
       "        text-align: right;\n",
       "    }\n",
       "</style>\n",
       "<table border=\"1\" class=\"dataframe\">\n",
       "  <thead>\n",
       "    <tr style=\"text-align: right;\">\n",
       "      <th></th>\n",
       "      <th>wiki_code</th>\n",
       "      <th>page_title</th>\n",
       "      <th>page_id</th>\n",
       "      <th>user_client</th>\n",
       "      <th>daily_total</th>\n",
       "      <th>hourly_count</th>\n",
       "    </tr>\n",
       "  </thead>\n",
       "  <tbody>\n",
       "    <tr>\n",
       "      <th>0</th>\n",
       "      <td>aa.wikibooks</td>\n",
       "      <td>Main_Page</td>\n",
       "      <td>desktop</td>\n",
       "      <td>10</td>\n",
       "      <td>F1I1K1L1N1S1U1V1W2</td>\n",
       "      <td>&lt;NA&gt;</td>\n",
       "    </tr>\n",
       "    <tr>\n",
       "      <th>1</th>\n",
       "      <td>aa.wikibooks</td>\n",
       "      <td>Main_Page</td>\n",
       "      <td>mobile-web</td>\n",
       "      <td>2</td>\n",
       "      <td>B1O1</td>\n",
       "      <td>&lt;NA&gt;</td>\n",
       "    </tr>\n",
       "    <tr>\n",
       "      <th>2</th>\n",
       "      <td>aa.wikibooks</td>\n",
       "      <td>Special:CreateAccount</td>\n",
       "      <td>desktop</td>\n",
       "      <td>3</td>\n",
       "      <td>F1N1W1</td>\n",
       "      <td>&lt;NA&gt;</td>\n",
       "    </tr>\n",
       "    <tr>\n",
       "      <th>3</th>\n",
       "      <td>aa.wikibooks</td>\n",
       "      <td>Special:Version</td>\n",
       "      <td>desktop</td>\n",
       "      <td>1</td>\n",
       "      <td>X1</td>\n",
       "      <td>&lt;NA&gt;</td>\n",
       "    </tr>\n",
       "    <tr>\n",
       "      <th>4</th>\n",
       "      <td>aa.wikibooks</td>\n",
       "      <td>User:EVula/header</td>\n",
       "      <td>desktop</td>\n",
       "      <td>1</td>\n",
       "      <td>U1</td>\n",
       "      <td>&lt;NA&gt;</td>\n",
       "    </tr>\n",
       "  </tbody>\n",
       "</table>\n",
       "</div>"
      ],
      "text/plain": [
       "      wiki_code             page_title     page_id user_client  \\\n",
       "0  aa.wikibooks              Main_Page     desktop          10   \n",
       "1  aa.wikibooks              Main_Page  mobile-web           2   \n",
       "2  aa.wikibooks  Special:CreateAccount     desktop           3   \n",
       "3  aa.wikibooks        Special:Version     desktop           1   \n",
       "4  aa.wikibooks      User:EVula/header     desktop           1   \n",
       "\n",
       "          daily_total hourly_count  \n",
       "0  F1I1K1L1N1S1U1V1W2         <NA>  \n",
       "1                B1O1         <NA>  \n",
       "2              F1N1W1         <NA>  \n",
       "3                  X1         <NA>  \n",
       "4                  U1         <NA>  "
      ]
     },
     "execution_count": 51,
     "metadata": {},
     "output_type": "execute_result"
    }
   ],
   "source": [
    "%%time\n",
    "pageview_columns = [\"wiki_code\", \"page_title\", \"page_id\", \"user_client\", \"daily_total\", \"hourly_count\"]\n",
    "pageview_dtype = {\n",
    "    \"wiki_code\": \"string\",\n",
    "    \"page_title\": \"string\",\n",
    "    \"page_id\": \"string\", # will be parsed to int\n",
    "    \"user_client\": \"string\",\n",
    "    \"daily_total\": \"string\", # will be parsed to int\n",
    "    \"hourly_count\": \"string\", # from 0 to 23, written as 0 = A, 1 = B ... 22 = W, 23 = X, will be parsed\n",
    "}\n",
    "df = pd.read_csv(\n",
    "    \"../hdd/pageview_complete/2018/2018-01/pageviews-20180101-user.csv\",\n",
    "    sep=' ',\n",
    "    names=pageview_columns,\n",
    "    low_memory=False,\n",
    "    dtype=pageview_dtype,\n",
    ")\n",
    "df.head()"
   ]
  },
  {
   "cell_type": "code",
   "execution_count": null,
   "id": "e606fea8",
   "metadata": {},
   "outputs": [
    {
     "name": "stderr",
     "output_type": "stream",
     "text": [
      "\r",
      "  0%|          | 0/2 [00:00<?, ?it/s]"
     ]
    }
   ],
   "source": [
    "%%time\n",
    "# load and combine all raw daily csv files\n",
    "dfs = None\n",
    "for date, f in tqdm(list(zip(pageview_samples, pageview_sample_files))[:2]):\n",
    "    df = pd.read_csv(f, sep=' ', names=pageview_columns, low_memory=False, dtype=pageview_dtype)\n",
    "    df[\"date\"] = date\n",
    "    if dfs is None:\n",
    "        dfs = df\n",
    "    else:\n",
    "        dfs = pd.concat([dfs, df])\n",
    "dfs.head()"
   ]
  },
  {
   "cell_type": "code",
   "execution_count": 8,
   "id": "44c4666b",
   "metadata": {},
   "outputs": [],
   "source": [
    "# % of pages with less than X views per day (can we remove them?)"
   ]
  },
  {
   "cell_type": "code",
   "execution_count": 9,
   "id": "64017f69",
   "metadata": {},
   "outputs": [],
   "source": [
    "# How many % of total page views make up the top N most popular pages?"
   ]
  },
  {
   "cell_type": "code",
   "execution_count": 11,
   "id": "e90bca6a",
   "metadata": {},
   "outputs": [],
   "source": [
    "# mean and std dev of page views per day (absolute)\n",
    "\n",
    "# mean and std page views per country code per day (absolute and relative)"
   ]
  },
  {
   "cell_type": "code",
   "execution_count": 12,
   "id": "46cd5cbf",
   "metadata": {},
   "outputs": [],
   "source": [
    "# mean and std pages visited per day (absolute)\n",
    "\n",
    "# mean and std pages visited per country code per day (absolute and relative)"
   ]
  },
  {
   "cell_type": "code",
   "execution_count": 13,
   "id": "a062b3b3",
   "metadata": {},
   "outputs": [],
   "source": [
    "# for all pages, in how many other days do they occur? (relative)\n",
    "\n",
    "# for all days, how many percent of pages are found in more than 90% of days (absolute and relative) "
   ]
  },
  {
   "cell_type": "code",
   "execution_count": 14,
   "id": "bbc8cb70",
   "metadata": {},
   "outputs": [],
   "source": [
    "# mean storage size per raw csv (daily and monthly)"
   ]
  },
  {
   "cell_type": "code",
   "execution_count": 15,
   "id": "5dde6de9",
   "metadata": {},
   "outputs": [],
   "source": [
    "# mean storage size per daily parquet file"
   ]
  },
  {
   "cell_type": "code",
   "execution_count": null,
   "id": "98192351",
   "metadata": {},
   "outputs": [],
   "source": []
  }
 ],
 "metadata": {
  "kernelspec": {
   "display_name": "Python 3 (ipykernel)",
   "language": "python",
   "name": "python3"
  },
  "language_info": {
   "codemirror_mode": {
    "name": "ipython",
    "version": 3
   },
   "file_extension": ".py",
   "mimetype": "text/x-python",
   "name": "python",
   "nbconvert_exporter": "python",
   "pygments_lexer": "ipython3",
   "version": "3.9.6"
  }
 },
 "nbformat": 4,
 "nbformat_minor": 5
}
