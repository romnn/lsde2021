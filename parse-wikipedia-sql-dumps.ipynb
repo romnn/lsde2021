{
 "cells": [
  {
   "cell_type": "code",
   "execution_count": 152,
   "id": "8572016f",
   "metadata": {},
   "outputs": [
    {
     "name": "stdout",
     "output_type": "stream",
     "text": [
      "The autoreload extension is already loaded. To reload it, use:\n",
      "  %reload_ext autoreload\n"
     ]
    }
   ],
   "source": [
    "%load_ext autoreload\n",
    "%autoreload 2\n",
    "import traceback\n",
    "import pyspark\n",
    "import datetime\n",
    "import csv\n",
    "import time\n",
    "import gzip\n",
    "import multiprocessing\n",
    "import pandas as pd\n",
    "from pprint import pprint\n",
    "from functools import partial\n",
    "from pathlib import Path\n",
    "from typing import Tuple, Optional\n",
    "import lsde2021.download as dl\n",
    "import lsde2021.aggregate as agg\n",
    "from lsde2021.types import PathLike\n",
    "from pyspark.sql import SparkSession\n",
    "from pyspark.sql.types import StructType, StructField, StringType, LongType, IntegerType\n",
    "import pyspark.sql.functions as F"
   ]
  },
  {
   "cell_type": "code",
   "execution_count": 2,
   "id": "c1b9e331",
   "metadata": {},
   "outputs": [
    {
     "name": "stderr",
     "output_type": "stream",
     "text": [
      "WARNING: An illegal reflective access operation has occurred\n",
      "WARNING: Illegal reflective access by org.apache.spark.unsafe.Platform (file:/usr/local/spark-3.1.2-bin-hadoop3.2/jars/spark-unsafe_2.12-3.1.2.jar) to constructor java.nio.DirectByteBuffer(long,int)\n",
      "WARNING: Please consider reporting this to the maintainers of org.apache.spark.unsafe.Platform\n",
      "WARNING: Use --illegal-access=warn to enable warnings of further illegal reflective access operations\n",
      "WARNING: All illegal access operations will be denied in a future release\n",
      "21/10/09 16:41:53 WARN NativeCodeLoader: Unable to load native-hadoop library for your platform... using builtin-java classes where applicable\n",
      "Using Spark's default log4j profile: org/apache/spark/log4j-defaults.properties\n",
      "Setting default log level to \"WARN\".\n",
      "To adjust logging level use sc.setLogLevel(newLevel). For SparkR, use setLogLevel(newLevel).\n",
      "21/10/09 16:41:54 WARN Utils: Service 'SparkUI' could not bind on port 4040. Attempting port 4041.\n"
     ]
    }
   ],
   "source": [
    "MAX_MEMORY = \"60G\"\n",
    "\n",
    "spark = SparkSession \\\n",
    "    .builder \\\n",
    "    .appName(\"parse-wikipedia-sql-dumps\") \\\n",
    "    .config(\"spark.executor.memory\", MAX_MEMORY) \\\n",
    "    .config(\"spark.driver.memory\", MAX_MEMORY) \\\n",
    "    .config('spark.driver.maxResultSize', MAX_MEMORY) \\\n",
    "    .config('spark.ui.showConsoleProgress', 'false') \\\n",
    "    .getOrCreate()\n",
    "sc = spark.sparkContext\n",
    "\n",
    "csv_loader = spark.read.format(\"csv\").options(header='True', inferSchema='True')"
   ]
  },
  {
   "cell_type": "code",
   "execution_count": 170,
   "id": "32cc0d17",
   "metadata": {},
   "outputs": [],
   "source": [
    "def parse_wikipedia_sql_dump_handler(\n",
    "    sql_input_path: PathLike,\n",
    "    dest: Optional[PathLike] = None,\n",
    "    force: bool = False\n",
    "):\n",
    "    start = time.time()\n",
    "    csv_config = dict(\n",
    "        delimiter=',',\n",
    "        doublequote=False,\n",
    "        escapechar='\\\\',\n",
    "        quotechar=\"'\",\n",
    "        strict=True,\n",
    "    )\n",
    "\n",
    "    input_path = Path(sql_input_path)\n",
    "    output_path = input_path.with_suffix(\".csv\")\n",
    "    if dest is not None:\n",
    "        output_path = dest / output_path.name\n",
    "    \n",
    "    if not force and output_path.exists():\n",
    "        print(f\"using existing {output_path} ...\")\n",
    "        return output_path\n",
    "\n",
    "    with gzip.open(input_path, mode=\"rt\", encoding=\"ISO-8859-1\") as input_file:\n",
    "        with open(output_path, mode=\"w+\", encoding=\"ISO-8859-1\") as output_file:\n",
    "            entries = 0\n",
    "            try:\n",
    "                writer = csv.writer(output_file, quoting=csv.QUOTE_MINIMAL)\n",
    "                for line in input_file.readlines():\n",
    "                    # Look for INSERT statement and parse it\n",
    "                    if line.startswith('INSERT INTO'):\n",
    "                        values = line.partition('` VALUES ')[2]\n",
    "                        assert values\n",
    "                        assert values[0] == '('\n",
    "                        # print(\"found\", values[values.find(\"79988\")-10:][:100])\n",
    "                        reader = csv.reader([values], **csv_config)\n",
    "                        for ridx, row in enumerate(reader):\n",
    "                            for cidx in range(0, len(row), 3):\n",
    "                                entry = \",\".join(row[cidx:cidx+3])[1:-1]\n",
    "                                try:\n",
    "                                    entry = tuple(*csv.reader([entry],  delimiter=','))\n",
    "                                    writer.writerow(entry)\n",
    "                                    entries += 1\n",
    "                                except Exception as e:\n",
    "                                    print(\"entry:\", entry)\n",
    "                                    print(\"context:\", row[cidx:cidx+10])\n",
    "                                    raise e\n",
    "            finally:\n",
    "                print(f\"wrote {entries} rows to {output_path} in {time.time() - start:.2f} seconds ...\")\n",
    "    return output_path"
   ]
  },
  {
   "cell_type": "code",
   "execution_count": 171,
   "id": "48923a82",
   "metadata": {},
   "outputs": [
    {
     "data": {
      "text/html": [
       "<div>\n",
       "<style scoped>\n",
       "    .dataframe tbody tr th:only-of-type {\n",
       "        vertical-align: middle;\n",
       "    }\n",
       "\n",
       "    .dataframe tbody tr th {\n",
       "        vertical-align: top;\n",
       "    }\n",
       "\n",
       "    .dataframe thead th {\n",
       "        text-align: right;\n",
       "    }\n",
       "</style>\n",
       "<table border=\"1\" class=\"dataframe\">\n",
       "  <thead>\n",
       "    <tr style=\"text-align: right;\">\n",
       "      <th></th>\n",
       "      <th>name</th>\n",
       "      <th>dbname</th>\n",
       "      <th>group</th>\n",
       "    </tr>\n",
       "    <tr>\n",
       "      <th>code</th>\n",
       "      <th></th>\n",
       "      <th></th>\n",
       "      <th></th>\n",
       "    </tr>\n",
       "  </thead>\n",
       "  <tbody>\n",
       "    <tr>\n",
       "      <th>ar</th>\n",
       "      <td>Arabic</td>\n",
       "      <td>arwiki</td>\n",
       "      <td>ar</td>\n",
       "    </tr>\n",
       "    <tr>\n",
       "      <th>ary</th>\n",
       "      <td>Moroccan Arabic</td>\n",
       "      <td>arywiki</td>\n",
       "      <td>ar</td>\n",
       "    </tr>\n",
       "    <tr>\n",
       "      <th>arz</th>\n",
       "      <td>Egyptian Arabic</td>\n",
       "      <td>arzwiki</td>\n",
       "      <td>ar</td>\n",
       "    </tr>\n",
       "    <tr>\n",
       "      <th>az</th>\n",
       "      <td>Azerbaijani</td>\n",
       "      <td>azwiki</td>\n",
       "      <td>az</td>\n",
       "    </tr>\n",
       "    <tr>\n",
       "      <th>azb</th>\n",
       "      <td>South Azerbaijani</td>\n",
       "      <td>azbwiki</td>\n",
       "      <td>az</td>\n",
       "    </tr>\n",
       "  </tbody>\n",
       "</table>\n",
       "</div>"
      ],
      "text/plain": [
       "                   name   dbname group\n",
       "code                                  \n",
       "ar               Arabic   arwiki    ar\n",
       "ary     Moroccan Arabic  arywiki    ar\n",
       "arz     Egyptian Arabic  arzwiki    ar\n",
       "az          Azerbaijani   azwiki    az\n",
       "azb   South Azerbaijani  azbwiki    az"
      ]
     },
     "execution_count": 171,
     "metadata": {},
     "output_type": "execute_result"
    }
   ],
   "source": [
    "dest = Path(\"../hdd/wikipedia_sql_dumps\")\n",
    "tables = [\"langlinks\", \"page\", \"category\", \"categorylinks\"]\n",
    "\n",
    "languages = pd.read_csv(\"./data/languages.csv\", index_col=\"code\")\n",
    "languages.head()"
   ]
  },
  {
   "cell_type": "code",
   "execution_count": 172,
   "id": "eecb552b",
   "metadata": {},
   "outputs": [
    {
     "name": "stdout",
     "output_type": "stream",
     "text": [
      "downloaded 204 of 204\n"
     ]
    },
    {
     "name": "stderr",
     "output_type": "stream",
     "text": [
      "using existing ../hdd/wikipedia_sql_dumps/svwiki/20211001/svwiki-20211001-langlinks.sql.csv ...using existing ../hdd/wikipedia_sql_dumps/dawiki/20211001/dawiki-20211001-langlinks.sql.csv ...using existing ../hdd/wikipedia_sql_dumps/hiwiki/20211001/hiwiki-20211001-langlinks.sql.csv ...using existing ../hdd/wikipedia_sql_dumps/viwiki/20211001/viwiki-20211001-langlinks.sql.csv ...using existing ../hdd/wikipedia_sql_dumps/fiwiki/20211001/fiwiki-20211001-langlinks.sql.csv ...using existing ../hdd/wikipedia_sql_dumps/hywiki/20211001/hywiki-20211001-langlinks.sql.csv ...\n",
      "\n",
      "using existing ../hdd/wikipedia_sql_dumps/plwiki/20211001/plwiki-20211001-langlinks.sql.csv ...using existing ../hdd/wikipedia_sql_dumps/slwiki/20211001/slwiki-20211001-langlinks.sql.csv ...using existing ../hdd/wikipedia_sql_dumps/kowiki/20211001/kowiki-20211001-langlinks.sql.csv ...using existing ../hdd/wikipedia_sql_dumps/ruwiki/20211001/ruwiki-20211001-langlinks.sql.csv ...\n",
      "\n",
      "using existing ../hdd/wikipedia_sql_dumps/ltwiki/20211001/ltwiki-20211001-langlinks.sql.csv ...\n",
      "\n",
      "using existing ../hdd/wikipedia_sql_dumps/arwiki/20211001/arwiki-20211001-langlinks.sql.csv ...using existing ../hdd/wikipedia_sql_dumps/iswiki/20211001/iswiki-20211001-langlinks.sql.csv ...\n",
      "\n",
      "\n",
      "using existing ../hdd/wikipedia_sql_dumps/azwiki/20211001/azwiki-20211001-langlinks.sql.csv ...using existing ../hdd/wikipedia_sql_dumps/bswiki/20211001/bswiki-20211001-langlinks.sql.csv ...\n",
      "\n",
      "\n",
      "\n",
      "\n",
      "\n",
      "using existing ../hdd/wikipedia_sql_dumps/enwiki/20211001/enwiki-20211001-langlinks.sql.csv ...\n",
      "wrote 598560 rows to ../hdd/wikipedia_sql_dumps/iswiki/20211001/iswiki-20211001-page.sql.csv in 4.80 seconds ...\n",
      "using existing ../hdd/wikipedia_sql_dumps/iswiki/20211001/iswiki-20211001-category.sql.csv ...\n",
      "wrote 427039 rows to ../hdd/wikipedia_sql_dumps/iswiki/20211001/iswiki-20211001-categorylinks.sql.csv in 4.26 seconds ...\n",
      "using existing ../hdd/wikipedia_sql_dumps/itwiki/20211001/itwiki-20211001-langlinks.sql.csv ...\n",
      "wrote 1563442 rows to ../hdd/wikipedia_sql_dumps/bswiki/20211001/bswiki-20211001-page.sql.csv in 11.85 seconds ...\n",
      "using existing ../hdd/wikipedia_sql_dumps/bswiki/20211001/bswiki-20211001-category.sql.csv ...\n",
      "wrote 1847020 rows to ../hdd/wikipedia_sql_dumps/slwiki/20211001/slwiki-20211001-page.sql.csv in 14.63 seconds ...\n",
      "using existing ../hdd/wikipedia_sql_dumps/slwiki/20211001/slwiki-20211001-category.sql.csv ...\n",
      "wrote 2111059 rows to ../hdd/wikipedia_sql_dumps/ltwiki/20211001/ltwiki-20211001-page.sql.csv in 16.39 seconds ...\n",
      "using existing ../hdd/wikipedia_sql_dumps/ltwiki/20211001/ltwiki-20211001-category.sql.csv ...\n",
      "wrote 2090236 rows to ../hdd/wikipedia_sql_dumps/azwiki/20211001/azwiki-20211001-page.sql.csv in 17.07 seconds ...\n",
      "using existing ../hdd/wikipedia_sql_dumps/azwiki/20211001/azwiki-20211001-category.sql.csv ...\n",
      "wrote 1445678 rows to ../hdd/wikipedia_sql_dumps/bswiki/20211001/bswiki-20211001-categorylinks.sql.csv in 14.72 seconds ...\n",
      "using existing ../hdd/wikipedia_sql_dumps/cawiki/20211001/cawiki-20211001-langlinks.sql.csv ...\n",
      "wrote 3825069 rows to ../hdd/wikipedia_sql_dumps/dawiki/20211001/dawiki-20211001-page.sql.csv in 30.54 seconds ...\n",
      "using existing ../hdd/wikipedia_sql_dumps/dawiki/20211001/dawiki-20211001-category.sql.csv ...\n",
      "wrote 4206427 rows to ../hdd/wikipedia_sql_dumps/hywiki/20211001/hywiki-20211001-page.sql.csv in 35.89 seconds ...\n",
      "using existing ../hdd/wikipedia_sql_dumps/hywiki/20211001/hywiki-20211001-category.sql.csv ...\n",
      "wrote 1912077 rows to ../hdd/wikipedia_sql_dumps/ltwiki/20211001/ltwiki-20211001-categorylinks.sql.csv in 20.55 seconds ...\n",
      "using existing ../hdd/wikipedia_sql_dumps/nlwiki/20211001/nlwiki-20211001-langlinks.sql.csv ...\n",
      "wrote 4898583 rows to ../hdd/wikipedia_sql_dumps/hiwiki/20211001/hiwiki-20211001-page.sql.csv in 40.63 seconds ...\n",
      "using existing ../hdd/wikipedia_sql_dumps/hiwiki/20211001/hiwiki-20211001-category.sql.csv ...\n",
      "wrote 5920009 rows to ../hdd/wikipedia_sql_dumps/fiwiki/20211001/fiwiki-20211001-page.sql.csv in 47.75 seconds ...\n",
      "using existing ../hdd/wikipedia_sql_dumps/fiwiki/20211001/fiwiki-20211001-category.sql.csv ...\n",
      "wrote 3507918 rows to ../hdd/wikipedia_sql_dumps/azwiki/20211001/azwiki-20211001-categorylinks.sql.csv in 39.07 seconds ...\n",
      "using existing ../hdd/wikipedia_sql_dumps/azbwiki/20211001/azbwiki-20211001-langlinks.sql.csv ...\n",
      "wrote 3803810 rows to ../hdd/wikipedia_sql_dumps/slwiki/20211001/slwiki-20211001-categorylinks.sql.csv in 46.02 seconds ...\n",
      "using existing ../hdd/wikipedia_sql_dumps/sqwiki/20211001/sqwiki-20211001-langlinks.sql.csv ...\n",
      "wrote 1908305 rows to ../hdd/wikipedia_sql_dumps/hiwiki/20211001/hiwiki-20211001-categorylinks.sql.csv in 27.23 seconds ...\n",
      "using existing ../hdd/wikipedia_sql_dumps/hewiki/20211001/hewiki-20211001-langlinks.sql.csv ...\n",
      "wrote 1098751 rows to ../hdd/wikipedia_sql_dumps/sqwiki/20211001/sqwiki-20211001-page.sql.csv in 8.50 seconds ...\n",
      "using existing ../hdd/wikipedia_sql_dumps/sqwiki/20211001/sqwiki-20211001-category.sql.csv ...\n",
      "wrote 2448195 rows to ../hdd/wikipedia_sql_dumps/azbwiki/20211001/azbwiki-20211001-page.sql.csv in 19.85 seconds ...\n",
      "using existing ../hdd/wikipedia_sql_dumps/azbwiki/20211001/azbwiki-20211001-category.sql.csv ...\n",
      "wrote 946419 rows to ../hdd/wikipedia_sql_dumps/sqwiki/20211001/sqwiki-20211001-categorylinks.sql.csv in 9.59 seconds ...\n",
      "using existing ../hdd/wikipedia_sql_dumps/srwiki/20211001/srwiki-20211001-langlinks.sql.csv ...\n",
      "wrote 7396048 rows to ../hdd/wikipedia_sql_dumps/cawiki/20211001/cawiki-20211001-page.sql.csv in 58.28 seconds ...\n",
      "using existing ../hdd/wikipedia_sql_dumps/cawiki/20211001/cawiki-20211001-category.sql.csv ...\n",
      "wrote 11102141 rows to ../hdd/wikipedia_sql_dumps/kowiki/20211001/kowiki-20211001-page.sql.csv in 89.29 seconds ...\n",
      "using existing ../hdd/wikipedia_sql_dumps/kowiki/20211001/kowiki-20211001-category.sql.csv ...\n",
      "wrote 6079584 rows to ../hdd/wikipedia_sql_dumps/dawiki/20211001/dawiki-20211001-categorylinks.sql.csv in 65.45 seconds ...\n",
      "using existing ../hdd/wikipedia_sql_dumps/dewiki/20211001/dewiki-20211001-langlinks.sql.csv ...\n",
      "wrote 5503677 rows to ../hdd/wikipedia_sql_dumps/hewiki/20211001/hewiki-20211001-page.sql.csv in 44.34 seconds ...\n",
      "using existing ../hdd/wikipedia_sql_dumps/hewiki/20211001/hewiki-20211001-category.sql.csv ...\n",
      "wrote 14924472 rows to ../hdd/wikipedia_sql_dumps/plwiki/20211001/plwiki-20211001-page.sql.csv in 118.65 seconds ...\n",
      "using existing ../hdd/wikipedia_sql_dumps/plwiki/20211001/plwiki-20211001-category.sql.csv ...\n",
      "wrote 6204391 rows to ../hdd/wikipedia_sql_dumps/hywiki/20211001/hywiki-20211001-categorylinks.sql.csv in 83.27 seconds ...\n",
      "using existing ../hdd/wikipedia_sql_dumps/hywwiki/20211001/hywwiki-20211001-langlinks.sql.csv ...\n",
      "wrote 85519 rows to ../hdd/wikipedia_sql_dumps/hywwiki/20211001/hywwiki-20211001-page.sql.csv in 0.66 seconds ...\n",
      "using existing ../hdd/wikipedia_sql_dumps/hywwiki/20211001/hywwiki-20211001-category.sql.csv ...\n",
      "wrote 101668 rows to ../hdd/wikipedia_sql_dumps/hywwiki/20211001/hywwiki-20211001-categorylinks.sql.csv in 1.24 seconds ...\n",
      "using existing ../hdd/wikipedia_sql_dumps/idwiki/20211001/idwiki-20211001-langlinks.sql.csv ...\n",
      "wrote 4349833 rows to ../hdd/wikipedia_sql_dumps/azbwiki/20211001/azbwiki-20211001-categorylinks.sql.csv in 53.70 seconds ...\n",
      "using existing ../hdd/wikipedia_sql_dumps/bgwiki/20211001/bgwiki-20211001-langlinks.sql.csv ...\n",
      "wrote 7740693 rows to ../hdd/wikipedia_sql_dumps/fiwiki/20211001/fiwiki-20211001-categorylinks.sql.csv in 87.66 seconds ...\n",
      "using existing ../hdd/wikipedia_sql_dumps/frwiki/20211001/frwiki-20211001-langlinks.sql.csv ...\n",
      "wrote 2652897 rows to ../hdd/wikipedia_sql_dumps/bgwiki/20211001/bgwiki-20211001-page.sql.csv in 22.51 seconds ...\n",
      "using existing ../hdd/wikipedia_sql_dumps/bgwiki/20211001/bgwiki-20211001-category.sql.csv ...\n",
      "wrote 18963401 rows to ../hdd/wikipedia_sql_dumps/nlwiki/20211001/nlwiki-20211001-page.sql.csv in 147.58 seconds ...\n",
      "using existing ../hdd/wikipedia_sql_dumps/nlwiki/20211001/nlwiki-20211001-category.sql.csv ...\n",
      "wrote 9499479 rows to ../hdd/wikipedia_sql_dumps/cawiki/20211001/cawiki-20211001-categorylinks.sql.csv in 105.62 seconds ...\n",
      "using existing ../hdd/wikipedia_sql_dumps/cswiki/20211001/cswiki-20211001-langlinks.sql.csv ...\n",
      "wrote 4334161 rows to ../hdd/wikipedia_sql_dumps/bgwiki/20211001/bgwiki-20211001-categorylinks.sql.csv in 57.38 seconds ...\n"
     ]
    },
    {
     "name": "stderr",
     "output_type": "stream",
     "text": [
      "wrote 13024853 rows to ../hdd/wikipedia_sql_dumps/idwiki/20211001/idwiki-20211001-page.sql.csv in 100.73 seconds ...\n",
      "using existing ../hdd/wikipedia_sql_dumps/idwiki/20211001/idwiki-20211001-category.sql.csv ...\n",
      "wrote 17011572 rows to ../hdd/wikipedia_sql_dumps/srwiki/20211001/srwiki-20211001-page.sql.csv in 144.72 seconds ...\n",
      "using existing ../hdd/wikipedia_sql_dumps/srwiki/20211001/srwiki-20211001-category.sql.csv ...\n",
      "wrote 29213624 rows to ../hdd/wikipedia_sql_dumps/svwiki/20211001/svwiki-20211001-page.sql.csv in 228.74 seconds ...\n",
      "using existing ../hdd/wikipedia_sql_dumps/svwiki/20211001/svwiki-20211001-category.sql.csv ...\n",
      "wrote 9100758 rows to ../hdd/wikipedia_sql_dumps/hewiki/20211001/hewiki-20211001-categorylinks.sql.csv in 117.48 seconds ...\n",
      "using existing ../hdd/wikipedia_sql_dumps/huwiki/20211001/huwiki-20211001-langlinks.sql.csv ...\n",
      "wrote 5813944 rows to ../hdd/wikipedia_sql_dumps/cswiki/20211001/cswiki-20211001-page.sql.csv in 46.02 seconds ...\n",
      "using existing ../hdd/wikipedia_sql_dumps/cswiki/20211001/cswiki-20211001-category.sql.csv ...\n",
      "wrote 29026242 rows to ../hdd/wikipedia_sql_dumps/ruwiki/20211001/ruwiki-20211001-page.sql.csv in 243.29 seconds ...\n",
      "using existing ../hdd/wikipedia_sql_dumps/ruwiki/20211001/ruwiki-20211001-category.sql.csv ...\n",
      "wrote 31251181 rows to ../hdd/wikipedia_sql_dumps/itwiki/20211001/itwiki-20211001-page.sql.csv in 247.04 seconds ...\n",
      "using existing ../hdd/wikipedia_sql_dumps/itwiki/20211001/itwiki-20211001-category.sql.csv ...\n",
      "wrote 32311511 rows to ../hdd/wikipedia_sql_dumps/arwiki/20211001/arwiki-20211001-page.sql.csv in 258.02 seconds ...\n",
      "using existing ../hdd/wikipedia_sql_dumps/arwiki/20211001/arwiki-20211001-category.sql.csv ...\n",
      "wrote 16206211 rows to ../hdd/wikipedia_sql_dumps/kowiki/20211001/kowiki-20211001-categorylinks.sql.csv in 173.67 seconds ...\n",
      "using existing ../hdd/wikipedia_sql_dumps/kuwiki/20211001/kuwiki-20211001-langlinks.sql.csv ...\n",
      "wrote 450241 rows to ../hdd/wikipedia_sql_dumps/kuwiki/20211001/kuwiki-20211001-page.sql.csv in 3.71 seconds ...\n",
      "using existing ../hdd/wikipedia_sql_dumps/kuwiki/20211001/kuwiki-20211001-category.sql.csv ...\n",
      "wrote 584907 rows to ../hdd/wikipedia_sql_dumps/kuwiki/20211001/kuwiki-20211001-categorylinks.sql.csv in 5.46 seconds ...\n",
      "using existing ../hdd/wikipedia_sql_dumps/lbwiki/20211001/lbwiki-20211001-langlinks.sql.csv ...\n",
      "wrote 6098581 rows to ../hdd/wikipedia_sql_dumps/huwiki/20211001/huwiki-20211001-page.sql.csv in 45.04 seconds ...\n",
      "using existing ../hdd/wikipedia_sql_dumps/huwiki/20211001/huwiki-20211001-category.sql.csv ...\n",
      "wrote 560366 rows to ../hdd/wikipedia_sql_dumps/lbwiki/20211001/lbwiki-20211001-page.sql.csv in 4.71 seconds ...\n",
      "using existing ../hdd/wikipedia_sql_dumps/lbwiki/20211001/lbwiki-20211001-category.sql.csv ...\n",
      "wrote 728374 rows to ../hdd/wikipedia_sql_dumps/lbwiki/20211001/lbwiki-20211001-categorylinks.sql.csv in 8.36 seconds ...\n",
      "wrote 15779404 rows to ../hdd/wikipedia_sql_dumps/plwiki/20211001/plwiki-20211001-categorylinks.sql.csv in 183.97 seconds ...\n",
      "using existing ../hdd/wikipedia_sql_dumps/ptwiki/20211001/ptwiki-20211001-langlinks.sql.csv ...\n",
      "wrote 31431912 rows to ../hdd/wikipedia_sql_dumps/dewiki/20211001/dewiki-20211001-page.sql.csv in 231.49 seconds ...\n",
      "using existing ../hdd/wikipedia_sql_dumps/dewiki/20211001/dewiki-20211001-category.sql.csv ...\n",
      "wrote 11244738 rows to ../hdd/wikipedia_sql_dumps/cswiki/20211001/cswiki-20211001-categorylinks.sql.csv in 117.57 seconds ...\n",
      "wrote 8137762 rows to ../hdd/wikipedia_sql_dumps/huwiki/20211001/huwiki-20211001-categorylinks.sql.csv in 79.43 seconds ...\n",
      "wrote 11670933 rows to ../hdd/wikipedia_sql_dumps/srwiki/20211001/srwiki-20211001-categorylinks.sql.csv in 152.48 seconds ...\n",
      "wrote 21346256 rows to ../hdd/wikipedia_sql_dumps/nlwiki/20211001/nlwiki-20211001-categorylinks.sql.csv in 198.16 seconds ...\n",
      "using existing ../hdd/wikipedia_sql_dumps/nowiki/20211001/nowiki-20211001-langlinks.sql.csv ...\n",
      "wrote 18627119 rows to ../hdd/wikipedia_sql_dumps/idwiki/20211001/idwiki-20211001-categorylinks.sql.csv in 173.23 seconds ...\n",
      "wrote 6940250 rows to ../hdd/wikipedia_sql_dumps/nowiki/20211001/nowiki-20211001-page.sql.csv in 43.28 seconds ...\n",
      "using existing ../hdd/wikipedia_sql_dumps/nowiki/20211001/nowiki-20211001-category.sql.csv ...\n",
      "wrote 22625128 rows to ../hdd/wikipedia_sql_dumps/ptwiki/20211001/ptwiki-20211001-page.sql.csv in 159.69 seconds ...\n",
      "using existing ../hdd/wikipedia_sql_dumps/ptwiki/20211001/ptwiki-20211001-category.sql.csv ...\n",
      "wrote 50038548 rows to ../hdd/wikipedia_sql_dumps/frwiki/20211001/frwiki-20211001-page.sql.csv in 338.78 seconds ...\n",
      "using existing ../hdd/wikipedia_sql_dumps/frwiki/20211001/frwiki-20211001-category.sql.csv ...\n",
      "wrote 36200052 rows to ../hdd/wikipedia_sql_dumps/svwiki/20211001/svwiki-20211001-categorylinks.sql.csv in 320.29 seconds ...\n",
      "using existing ../hdd/wikipedia_sql_dumps/trwiki/20211001/trwiki-20211001-langlinks.sql.csv ...\n",
      "wrote 14199747 rows to ../hdd/wikipedia_sql_dumps/nowiki/20211001/nowiki-20211001-categorylinks.sql.csv in 130.03 seconds ...\n",
      "wrote 83687724 rows to ../hdd/wikipedia_sql_dumps/viwiki/20211001/viwiki-20211001-page.sql.csv in 570.33 seconds ...\n",
      "using existing ../hdd/wikipedia_sql_dumps/viwiki/20211001/viwiki-20211001-category.sql.csv ...\n",
      "wrote 9148672 rows to ../hdd/wikipedia_sql_dumps/trwiki/20211001/trwiki-20211001-page.sql.csv in 51.52 seconds ...\n",
      "using existing ../hdd/wikipedia_sql_dumps/trwiki/20211001/trwiki-20211001-category.sql.csv ...\n",
      "wrote 36567926 rows to ../hdd/wikipedia_sql_dumps/dewiki/20211001/dewiki-20211001-categorylinks.sql.csv in 325.57 seconds ...\n",
      "using existing ../hdd/wikipedia_sql_dumps/elwiki/20211001/elwiki-20211001-langlinks.sql.csv ...\n",
      "wrote 2567124 rows to ../hdd/wikipedia_sql_dumps/elwiki/20211001/elwiki-20211001-page.sql.csv in 16.25 seconds ...\n",
      "using existing ../hdd/wikipedia_sql_dumps/elwiki/20211001/elwiki-20211001-category.sql.csv ...\n",
      "wrote 26322133 rows to ../hdd/wikipedia_sql_dumps/ptwiki/20211001/ptwiki-20211001-categorylinks.sql.csv in 230.13 seconds ...\n",
      "using existing ../hdd/wikipedia_sql_dumps/rowiki/20211001/rowiki-20211001-langlinks.sql.csv ...\n",
      "wrote 45560005 rows to ../hdd/wikipedia_sql_dumps/itwiki/20211001/itwiki-20211001-categorylinks.sql.csv in 440.02 seconds ...\n",
      "using existing ../hdd/wikipedia_sql_dumps/jawiki/20211001/jawiki-20211001-langlinks.sql.csv ...\n",
      "wrote 3811183 rows to ../hdd/wikipedia_sql_dumps/elwiki/20211001/elwiki-20211001-categorylinks.sql.csv in 39.75 seconds ...\n",
      "wrote 12418781 rows to ../hdd/wikipedia_sql_dumps/trwiki/20211001/trwiki-20211001-categorylinks.sql.csv in 110.88 seconds ...\n",
      "using existing ../hdd/wikipedia_sql_dumps/ukwiki/20211001/ukwiki-20211001-langlinks.sql.csv ...\n",
      "wrote 10333357 rows to ../hdd/wikipedia_sql_dumps/rowiki/20211001/rowiki-20211001-page.sql.csv in 61.40 seconds ...\n",
      "using existing ../hdd/wikipedia_sql_dumps/rowiki/20211001/rowiki-20211001-category.sql.csv ...\n",
      "wrote 49877988 rows to ../hdd/wikipedia_sql_dumps/ruwiki/20211001/ruwiki-20211001-categorylinks.sql.csv in 511.24 seconds ...\n",
      "using existing ../hdd/wikipedia_sql_dumps/bewiki/20211001/bewiki-20211001-langlinks.sql.csv ...\n",
      "wrote 2691725 rows to ../hdd/wikipedia_sql_dumps/bewiki/20211001/bewiki-20211001-page.sql.csv in 17.00 seconds ...\n",
      "using existing ../hdd/wikipedia_sql_dumps/bewiki/20211001/bewiki-20211001-category.sql.csv ...\n",
      "wrote 24960537 rows to ../hdd/wikipedia_sql_dumps/viwiki/20211001/viwiki-20211001-categorylinks.sql.csv in 208.59 seconds ...\n",
      "using existing ../hdd/wikipedia_sql_dumps/zhwiki/20211001/zhwiki-20211001-langlinks.sql.csv ...\n",
      "wrote 16515263 rows to ../hdd/wikipedia_sql_dumps/jawiki/20211001/jawiki-20211001-page.sql.csv in 100.94 seconds ...\n",
      "using existing ../hdd/wikipedia_sql_dumps/jawiki/20211001/jawiki-20211001-category.sql.csv ...\n",
      "wrote 16833104 rows to ../hdd/wikipedia_sql_dumps/ukwiki/20211001/ukwiki-20211001-page.sql.csv in 94.40 seconds ...\n",
      "using existing ../hdd/wikipedia_sql_dumps/ukwiki/20211001/ukwiki-20211001-category.sql.csv ...\n",
      "wrote 4381998 rows to ../hdd/wikipedia_sql_dumps/bewiki/20211001/bewiki-20211001-categorylinks.sql.csv in 40.57 seconds ...\n",
      "using existing ../hdd/wikipedia_sql_dumps/bxrwiki/20211001/bxrwiki-20211001-langlinks.sql.csv ...\n",
      "wrote 42151 rows to ../hdd/wikipedia_sql_dumps/bxrwiki/20211001/bxrwiki-20211001-page.sql.csv in 0.40 seconds ...\n",
      "using existing ../hdd/wikipedia_sql_dumps/bxrwiki/20211001/bxrwiki-20211001-category.sql.csv ...\n"
     ]
    },
    {
     "name": "stderr",
     "output_type": "stream",
     "text": [
      "wrote 26813 rows to ../hdd/wikipedia_sql_dumps/bxrwiki/20211001/bxrwiki-20211001-categorylinks.sql.csv in 0.31 seconds ...\n",
      "wrote 10010583 rows to ../hdd/wikipedia_sql_dumps/rowiki/20211001/rowiki-20211001-categorylinks.sql.csv in 85.35 seconds ...\n",
      "wrote 29264559 rows to ../hdd/wikipedia_sql_dumps/zhwiki/20211001/zhwiki-20211001-page.sql.csv in 162.22 seconds ...\n",
      "using existing ../hdd/wikipedia_sql_dumps/zhwiki/20211001/zhwiki-20211001-category.sql.csv ...\n",
      "wrote 27093734 rows to ../hdd/wikipedia_sql_dumps/jawiki/20211001/jawiki-20211001-categorylinks.sql.csv in 245.85 seconds ...\n",
      "wrote 27112846 rows to ../hdd/wikipedia_sql_dumps/ukwiki/20211001/ukwiki-20211001-categorylinks.sql.csv in 255.21 seconds ...\n",
      "wrote 38996590 rows to ../hdd/wikipedia_sql_dumps/zhwiki/20211001/zhwiki-20211001-categorylinks.sql.csv in 273.82 seconds ...\n",
      "using existing ../hdd/wikipedia_sql_dumps/ganwiki/20211001/ganwiki-20211001-langlinks.sql.csv ...\n",
      "wrote 145172 rows to ../hdd/wikipedia_sql_dumps/ganwiki/20211001/ganwiki-20211001-page.sql.csv in 0.78 seconds ...\n",
      "using existing ../hdd/wikipedia_sql_dumps/ganwiki/20211001/ganwiki-20211001-category.sql.csv ...\n",
      "wrote 176218 rows to ../hdd/wikipedia_sql_dumps/ganwiki/20211001/ganwiki-20211001-categorylinks.sql.csv in 1.08 seconds ...\n",
      "using existing ../hdd/wikipedia_sql_dumps/cdowiki/20211001/cdowiki-20211001-langlinks.sql.csv ...\n",
      "wrote 134626 rows to ../hdd/wikipedia_sql_dumps/cdowiki/20211001/cdowiki-20211001-page.sql.csv in 0.70 seconds ...\n",
      "using existing ../hdd/wikipedia_sql_dumps/cdowiki/20211001/cdowiki-20211001-category.sql.csv ...\n",
      "wrote 104467 rows to ../hdd/wikipedia_sql_dumps/cdowiki/20211001/cdowiki-20211001-categorylinks.sql.csv in 0.60 seconds ...\n",
      "using existing ../hdd/wikipedia_sql_dumps/zh_classicalwiki/20211001/zh_classicalwiki-20211001-langlinks.sql.csv ...\n",
      "wrote 396850 rows to ../hdd/wikipedia_sql_dumps/zh_classicalwiki/20211001/zh_classicalwiki-20211001-page.sql.csv in 1.97 seconds ...\n",
      "using existing ../hdd/wikipedia_sql_dumps/zh_classicalwiki/20211001/zh_classicalwiki-20211001-category.sql.csv ...\n",
      "wrote 170094 rows to ../hdd/wikipedia_sql_dumps/zh_classicalwiki/20211001/zh_classicalwiki-20211001-categorylinks.sql.csv in 1.01 seconds ...\n",
      "using existing ../hdd/wikipedia_sql_dumps/zh_min_nanwiki/20211001/zh_min_nanwiki-20211001-langlinks.sql.csv ...\n",
      "wrote 4596033 rows to ../hdd/wikipedia_sql_dumps/zh_min_nanwiki/20211001/zh_min_nanwiki-20211001-page.sql.csv in 21.46 seconds ...\n",
      "using existing ../hdd/wikipedia_sql_dumps/zh_min_nanwiki/20211001/zh_min_nanwiki-20211001-category.sql.csv ...\n",
      "wrote 2527897 rows to ../hdd/wikipedia_sql_dumps/zh_min_nanwiki/20211001/zh_min_nanwiki-20211001-categorylinks.sql.csv in 15.00 seconds ...\n",
      "wrote 118370717 rows to ../hdd/wikipedia_sql_dumps/arwiki/20211001/arwiki-20211001-categorylinks.sql.csv in 1014.03 seconds ...\n",
      "using existing ../hdd/wikipedia_sql_dumps/arywiki/20211001/arywiki-20211001-langlinks.sql.csv ...\n",
      "wrote 114271 rows to ../hdd/wikipedia_sql_dumps/arywiki/20211001/arywiki-20211001-page.sql.csv in 0.59 seconds ...\n",
      "using existing ../hdd/wikipedia_sql_dumps/arywiki/20211001/arywiki-20211001-category.sql.csv ...\n",
      "wrote 123010 rows to ../hdd/wikipedia_sql_dumps/arywiki/20211001/arywiki-20211001-categorylinks.sql.csv in 0.90 seconds ...\n",
      "using existing ../hdd/wikipedia_sql_dumps/arzwiki/20211001/arzwiki-20211001-langlinks.sql.csv ...\n",
      "wrote 6890765 rows to ../hdd/wikipedia_sql_dumps/arzwiki/20211001/arzwiki-20211001-page.sql.csv in 34.02 seconds ...\n",
      "using existing ../hdd/wikipedia_sql_dumps/arzwiki/20211001/arzwiki-20211001-category.sql.csv ...\n",
      "wrote 235243138 rows to ../hdd/wikipedia_sql_dumps/enwiki/20211001/enwiki-20211001-page.sql.csv in 1371.07 seconds ...\n",
      "using existing ../hdd/wikipedia_sql_dumps/enwiki/20211001/enwiki-20211001-category.sql.csv ...\n",
      "wrote 123756388 rows to ../hdd/wikipedia_sql_dumps/frwiki/20211001/frwiki-20211001-categorylinks.sql.csv in 1002.20 seconds ...\n",
      "using existing ../hdd/wikipedia_sql_dumps/gawiki/20211001/gawiki-20211001-langlinks.sql.csv ...\n",
      "wrote 398657 rows to ../hdd/wikipedia_sql_dumps/gawiki/20211001/gawiki-20211001-page.sql.csv in 2.18 seconds ...\n",
      "using existing ../hdd/wikipedia_sql_dumps/gawiki/20211001/gawiki-20211001-category.sql.csv ...\n",
      "wrote 422413 rows to ../hdd/wikipedia_sql_dumps/gawiki/20211001/gawiki-20211001-categorylinks.sql.csv in 3.10 seconds ...\n",
      "wrote 67153473 rows to ../hdd/wikipedia_sql_dumps/arzwiki/20211001/arzwiki-20211001-categorylinks.sql.csv in 459.60 seconds ...\n",
      "wrote 395933810 rows to ../hdd/wikipedia_sql_dumps/enwiki/20211001/enwiki-20211001-categorylinks.sql.csv in 2951.37 seconds ...\n",
      "using existing ../hdd/wikipedia_sql_dumps/eswiki/20211001/eswiki-20211001-langlinks.sql.csv ...\n",
      "wrote 32522008 rows to ../hdd/wikipedia_sql_dumps/eswiki/20211001/eswiki-20211001-page.sql.csv in 153.39 seconds ...\n",
      "using existing ../hdd/wikipedia_sql_dumps/eswiki/20211001/eswiki-20211001-category.sql.csv ...\n",
      "wrote 31201670 rows to ../hdd/wikipedia_sql_dumps/eswiki/20211001/eswiki-20211001-categorylinks.sql.csv in 226.66 seconds ...\n",
      "using existing ../hdd/wikipedia_sql_dumps/etwiki/20211001/etwiki-20211001-langlinks.sql.csv ...\n",
      "wrote 2288971 rows to ../hdd/wikipedia_sql_dumps/etwiki/20211001/etwiki-20211001-page.sql.csv in 10.83 seconds ...\n",
      "using existing ../hdd/wikipedia_sql_dumps/etwiki/20211001/etwiki-20211001-category.sql.csv ...\n",
      "wrote 1686779 rows to ../hdd/wikipedia_sql_dumps/etwiki/20211001/etwiki-20211001-categorylinks.sql.csv in 11.02 seconds ...\n"
     ]
    }
   ],
   "source": [
    "downloads = list([\n",
    "    dest / \"/\".join(dl.wikimedia_sql_dump_local_file(date, wiki=wiki, table=table))\n",
    "    for (date, wiki, table), _ in dl.wikimedia_sql_dump_urls(\n",
    "        [datetime.date(2021, 10, 1)], wikis=languages[\"dbname\"], tables=tables\n",
    "    )\n",
    "])\n",
    "\n",
    "print(\"downloaded %d of %d\" % (\n",
    "    len(list(dest.rglob(\"**/*sql.gz\"))), len(downloads)\n",
    "))\n",
    "\n",
    "\n",
    "parsed = sc.parallelize(downloads, numSlices=multiprocessing.cpu_count()).map(\n",
    "    partial(\n",
    "        parse_wikipedia_sql_dump_handler,\n",
    "        force=False,\n",
    "    )\n",
    ").collect()"
   ]
  },
  {
   "cell_type": "code",
   "execution_count": null,
   "id": "c12c1ead",
   "metadata": {},
   "outputs": [],
   "source": [
    "# copy the csv files to the nvme\n",
    "# join all countries' wiki langlinks with the pageviews so that we know the english titles and can drop the \n",
    "# to do this, we have to join with the pages first?"
   ]
  },
  {
   "cell_type": "code",
   "execution_count": 169,
   "id": "64ca6812",
   "metadata": {},
   "outputs": [
    {
     "ename": "AnalysisException",
     "evalue": "Path does not exist: file:/home/jovyan/hdd/wikipedia_sql_dumps/dewiki/20211001/dewiki-20211001-page.sql.csv",
     "output_type": "error",
     "traceback": [
      "\u001b[0;31m---------------------------------------------------------------------------\u001b[0m",
      "\u001b[0;31mAnalysisException\u001b[0m                         Traceback (most recent call last)",
      "\u001b[0;32m/tmp/ipykernel_1682/1554463971.py\u001b[0m in \u001b[0;36m<module>\u001b[0;34m\u001b[0m\n\u001b[0;32m----> 1\u001b[0;31m \u001b[0mpages\u001b[0m \u001b[0;34m=\u001b[0m \u001b[0mcsv_loader\u001b[0m\u001b[0;34m.\u001b[0m\u001b[0mload\u001b[0m\u001b[0;34m(\u001b[0m\u001b[0;34m\"../hdd/wikipedia_sql_dumps/dewiki/20211001/dewiki-20211001-page.sql.csv\"\u001b[0m\u001b[0;34m)\u001b[0m\u001b[0;34m\u001b[0m\u001b[0;34m\u001b[0m\u001b[0m\n\u001b[0m\u001b[1;32m      2\u001b[0m \u001b[0mpages\u001b[0m\u001b[0;34m.\u001b[0m\u001b[0mshow\u001b[0m\u001b[0;34m(\u001b[0m\u001b[0;34m)\u001b[0m\u001b[0;34m\u001b[0m\u001b[0;34m\u001b[0m\u001b[0m\n\u001b[1;32m      3\u001b[0m \u001b[0mprint\u001b[0m\u001b[0;34m(\u001b[0m\u001b[0mpages\u001b[0m\u001b[0;34m.\u001b[0m\u001b[0mcount\u001b[0m\u001b[0;34m(\u001b[0m\u001b[0;34m)\u001b[0m\u001b[0;34m,\u001b[0m \u001b[0;34m\"rows\"\u001b[0m\u001b[0;34m)\u001b[0m\u001b[0;34m\u001b[0m\u001b[0;34m\u001b[0m\u001b[0m\n",
      "\u001b[0;32m/usr/local/spark/python/pyspark/sql/readwriter.py\u001b[0m in \u001b[0;36mload\u001b[0;34m(self, path, format, schema, **options)\u001b[0m\n\u001b[1;32m    202\u001b[0m         \u001b[0mself\u001b[0m\u001b[0;34m.\u001b[0m\u001b[0moptions\u001b[0m\u001b[0;34m(\u001b[0m\u001b[0;34m**\u001b[0m\u001b[0moptions\u001b[0m\u001b[0;34m)\u001b[0m\u001b[0;34m\u001b[0m\u001b[0;34m\u001b[0m\u001b[0m\n\u001b[1;32m    203\u001b[0m         \u001b[0;32mif\u001b[0m \u001b[0misinstance\u001b[0m\u001b[0;34m(\u001b[0m\u001b[0mpath\u001b[0m\u001b[0;34m,\u001b[0m \u001b[0mstr\u001b[0m\u001b[0;34m)\u001b[0m\u001b[0;34m:\u001b[0m\u001b[0;34m\u001b[0m\u001b[0;34m\u001b[0m\u001b[0m\n\u001b[0;32m--> 204\u001b[0;31m             \u001b[0;32mreturn\u001b[0m \u001b[0mself\u001b[0m\u001b[0;34m.\u001b[0m\u001b[0m_df\u001b[0m\u001b[0;34m(\u001b[0m\u001b[0mself\u001b[0m\u001b[0;34m.\u001b[0m\u001b[0m_jreader\u001b[0m\u001b[0;34m.\u001b[0m\u001b[0mload\u001b[0m\u001b[0;34m(\u001b[0m\u001b[0mpath\u001b[0m\u001b[0;34m)\u001b[0m\u001b[0;34m)\u001b[0m\u001b[0;34m\u001b[0m\u001b[0;34m\u001b[0m\u001b[0m\n\u001b[0m\u001b[1;32m    205\u001b[0m         \u001b[0;32melif\u001b[0m \u001b[0mpath\u001b[0m \u001b[0;32mis\u001b[0m \u001b[0;32mnot\u001b[0m \u001b[0;32mNone\u001b[0m\u001b[0;34m:\u001b[0m\u001b[0;34m\u001b[0m\u001b[0;34m\u001b[0m\u001b[0m\n\u001b[1;32m    206\u001b[0m             \u001b[0;32mif\u001b[0m \u001b[0mtype\u001b[0m\u001b[0;34m(\u001b[0m\u001b[0mpath\u001b[0m\u001b[0;34m)\u001b[0m \u001b[0;34m!=\u001b[0m \u001b[0mlist\u001b[0m\u001b[0;34m:\u001b[0m\u001b[0;34m\u001b[0m\u001b[0;34m\u001b[0m\u001b[0m\n",
      "\u001b[0;32m/usr/local/spark/python/lib/py4j-0.10.9-src.zip/py4j/java_gateway.py\u001b[0m in \u001b[0;36m__call__\u001b[0;34m(self, *args)\u001b[0m\n\u001b[1;32m   1302\u001b[0m \u001b[0;34m\u001b[0m\u001b[0m\n\u001b[1;32m   1303\u001b[0m         \u001b[0manswer\u001b[0m \u001b[0;34m=\u001b[0m \u001b[0mself\u001b[0m\u001b[0;34m.\u001b[0m\u001b[0mgateway_client\u001b[0m\u001b[0;34m.\u001b[0m\u001b[0msend_command\u001b[0m\u001b[0;34m(\u001b[0m\u001b[0mcommand\u001b[0m\u001b[0;34m)\u001b[0m\u001b[0;34m\u001b[0m\u001b[0;34m\u001b[0m\u001b[0m\n\u001b[0;32m-> 1304\u001b[0;31m         return_value = get_return_value(\n\u001b[0m\u001b[1;32m   1305\u001b[0m             answer, self.gateway_client, self.target_id, self.name)\n\u001b[1;32m   1306\u001b[0m \u001b[0;34m\u001b[0m\u001b[0m\n",
      "\u001b[0;32m/usr/local/spark/python/pyspark/sql/utils.py\u001b[0m in \u001b[0;36mdeco\u001b[0;34m(*a, **kw)\u001b[0m\n\u001b[1;32m    115\u001b[0m                 \u001b[0;31m# Hide where the exception came from that shows a non-Pythonic\u001b[0m\u001b[0;34m\u001b[0m\u001b[0;34m\u001b[0m\u001b[0;34m\u001b[0m\u001b[0m\n\u001b[1;32m    116\u001b[0m                 \u001b[0;31m# JVM exception message.\u001b[0m\u001b[0;34m\u001b[0m\u001b[0;34m\u001b[0m\u001b[0;34m\u001b[0m\u001b[0m\n\u001b[0;32m--> 117\u001b[0;31m                 \u001b[0;32mraise\u001b[0m \u001b[0mconverted\u001b[0m \u001b[0;32mfrom\u001b[0m \u001b[0;32mNone\u001b[0m\u001b[0;34m\u001b[0m\u001b[0;34m\u001b[0m\u001b[0m\n\u001b[0m\u001b[1;32m    118\u001b[0m             \u001b[0;32melse\u001b[0m\u001b[0;34m:\u001b[0m\u001b[0;34m\u001b[0m\u001b[0;34m\u001b[0m\u001b[0m\n\u001b[1;32m    119\u001b[0m                 \u001b[0;32mraise\u001b[0m\u001b[0;34m\u001b[0m\u001b[0;34m\u001b[0m\u001b[0m\n",
      "\u001b[0;31mAnalysisException\u001b[0m: Path does not exist: file:/home/jovyan/hdd/wikipedia_sql_dumps/dewiki/20211001/dewiki-20211001-page.sql.csv"
     ]
    }
   ],
   "source": [
    "pages = csv_loader.load(\"../hdd/wikipedia_sql_dumps/dewiki/20211001/dewiki-20211001-page.sql.csv\")\n",
    "pages.show()\n",
    "print(pages.count(), \"rows\")"
   ]
  },
  {
   "cell_type": "code",
   "execution_count": null,
   "id": "9ce2e637",
   "metadata": {},
   "outputs": [],
   "source": [
    "# join the pages with their title in english and their english category\n",
    "# drop all the pages that have no english article"
   ]
  },
  {
   "cell_type": "code",
   "execution_count": 109,
   "id": "b90b0c6f",
   "metadata": {
    "scrolled": true
   },
   "outputs": [
    {
     "name": "stdout",
     "output_type": "stream",
     "text": [
      "+-------+----+--------------------+\n",
      "|   from|lang|               title|\n",
      "+-------+----+--------------------+\n",
      "|1267329|  aa|                null|\n",
      "|5755104|  aa|                null|\n",
      "|6019965|  aa|                null|\n",
      "|4221663|  aa|                   A|\n",
      "|9102935|  aa|Category:Candidat...|\n",
      "| 697833|  aa|    Category:User de|\n",
      "| 697849|  aa|  Category:User de-1|\n",
      "| 862809|  aa|      Template:Babel|\n",
      "| 295773|  aa|Template:Cc-by-sa...|\n",
      "|4100143|  aa|     Template:Delete|\n",
      "| 690318|  aa|  Template:User en-3|\n",
      "| 698291|  aa|  Template:User es-2|\n",
      "| 697865|  aa|    Template:User fr|\n",
      "| 697866|  aa|  Template:User fr-1|\n",
      "| 716292|  aa|    Template:User sk|\n",
      "|3862540|  aa|     User:Adolfobs93|\n",
      "|1516974|  aa|       User:Beetstra|\n",
      "|1813289|  aa|User:CommonsDelinker|\n",
      "|4550270|  aa|      User:Feudiable|\n",
      "|3664384|  aa|     User:Groucho NL|\n",
      "+-------+----+--------------------+\n",
      "only showing top 20 rows\n",
      "\n",
      "21878895 rows\n"
     ]
    }
   ],
   "source": [
    "langlinks = csv_loader.load(\"../nvme/dewiki/dewiki-20211001-langlinks.python.csv\")\n",
    "langlinks.show()\n",
    "print(langlinks.count(), \"rows\")"
   ]
  },
  {
   "cell_type": "code",
   "execution_count": 110,
   "id": "d28a062a",
   "metadata": {},
   "outputs": [
    {
     "name": "stdout",
     "output_type": "stream",
     "text": [
      "+---+---------+-------------------+-----------+----+\n",
      "| id|namespace|              title|is_redirect|lang|\n",
      "+---+---------+-------------------+-----------+----+\n",
      "|  1|        0|       Alan_Smithee|      false|null|\n",
      "|  3|        0|           Actinium|      false|null|\n",
      "|  5|        0|            Ang_Lee|      false|null|\n",
      "|  7|        0|Anschluss_(Luhmann)|      false|null|\n",
      "|  8|        0| Anschlussfähigkeit|       true|null|\n",
      "| 10|        0|      Aussagenlogik|      false|null|\n",
      "| 11|        0|         Autopoiese|       true|null|\n",
      "| 12|        0|               A.A.|       true|null|\n",
      "| 13|        0|Liste_von_Autoren/A|      false|null|\n",
      "| 14|        0|Liste_von_Autoren/H|      false|null|\n",
      "| 15|        0|Liste_von_Autoren/C|      false|null|\n",
      "| 16|        0|Liste_von_Autoren/I|      false|null|\n",
      "| 17|        0|Liste_von_Autoren/K|      false|null|\n",
      "| 18|        0|Liste_von_Autoren/J|      false|null|\n",
      "| 19|        0|Liste_von_Autoren/V|      false|null|\n",
      "| 20|        0|Liste_von_Autoren/G|      false|null|\n",
      "| 21|        0|Liste_von_Autoren/W|      false|null|\n",
      "| 22|        0|Liste_von_Autoren/B|      false|null|\n",
      "| 23|        0|Liste_von_Autoren/D|      false|null|\n",
      "| 24|        0|Liste_von_Autoren/S|      false|null|\n",
      "+---+---------+-------------------+-----------+----+\n",
      "only showing top 20 rows\n",
      "\n",
      "7253452 rows\n"
     ]
    }
   ],
   "source": [
    "pages = csv_loader.load(\"../nvme/dewiki/dewiki-20211001-page.csv\")\n",
    "pages.show()\n",
    "print(pages.count(), \"rows\")"
   ]
  },
  {
   "cell_type": "code",
   "execution_count": 111,
   "id": "49f1a94a",
   "metadata": {},
   "outputs": [
    {
     "name": "stdout",
     "output_type": "stream",
     "text": [
      "+---------+\n",
      "|namespace|\n",
      "+---------+\n",
      "|      101|\n",
      "|       12|\n",
      "|        1|\n",
      "|       13|\n",
      "|        6|\n",
      "|        3|\n",
      "|        5|\n",
      "|       15|\n",
      "|        9|\n",
      "|      829|\n",
      "|        4|\n",
      "|      100|\n",
      "|        8|\n",
      "|        7|\n",
      "|       10|\n",
      "|      828|\n",
      "|       11|\n",
      "|       14|\n",
      "|        2|\n",
      "|        0|\n",
      "+---------+\n",
      "\n",
      "20 namespaces\n"
     ]
    }
   ],
   "source": [
    "all_namespaces = pages.select(\"namespace\").distinct()\n",
    "all_namespaces.show()\n",
    "print(all_namespaces.count(), \"namespaces\")"
   ]
  },
  {
   "cell_type": "code",
   "execution_count": 112,
   "id": "65858c1e",
   "metadata": {},
   "outputs": [
    {
     "name": "stdout",
     "output_type": "stream",
     "text": [
      "+---+---------+------+-----------+----+----------------+-----------------+\n",
      "| id|namespace| title|is_redirect|lang|translation_lang|translation_title|\n",
      "+---+---------+------+-----------+----+----------------+-----------------+\n",
      "|148|        0|Ankara|      false|null|              ab|           Анкара|\n",
      "|148|        0|Ankara|      false|null|             ace|           Ankara|\n",
      "|148|        0|Ankara|      false|null|             ady|           Анкара|\n",
      "|148|        0|Ankara|      false|null|              af|           Ankara|\n",
      "|148|        0|Ankara|      false|null|              ak|           Ankara|\n",
      "|148|        0|Ankara|      false|null|             als|           Ankara|\n",
      "|148|        0|Ankara|      false|null|              am|             አንካራ|\n",
      "|148|        0|Ankara|      false|null|              an|           Ankara|\n",
      "|148|        0|Ankara|      false|null|             ang|           Ancyra|\n",
      "|148|        0|Ankara|      false|null|              ar|            أنقرة|\n",
      "|148|        0|Ankara|      false|null|             arc|            ܐܢܩܪܐ|\n",
      "|148|        0|Ankara|      false|null|             arz|            انقره|\n",
      "|148|        0|Ankara|      false|null|             ast|           Ankara|\n",
      "|148|        0|Ankara|      false|null|              av|           Анкара|\n",
      "|148|        0|Ankara|      false|null|              ay|           Ankara|\n",
      "|148|        0|Ankara|      false|null|              az|           Ankara|\n",
      "|148|        0|Ankara|      false|null|             azb|           آنکارا|\n",
      "|148|        0|Ankara|      false|null|              ba|           Анкара|\n",
      "|148|        0|Ankara|      false|null|         bat-smg|           Ankara|\n",
      "|148|        0|Ankara|      false|null|             bcl|           Ankara|\n",
      "+---+---------+------+-----------+----+----------------+-----------------+\n",
      "only showing top 20 rows\n",
      "\n",
      "total: 27124270\n",
      "without translation: 5245375\n"
     ]
    }
   ],
   "source": [
    "# find the german wikipedia artices with no translation entry\n",
    "page_langlinks = pages.join(\n",
    "    langlinks.select([\n",
    "        F.col(\"from\").alias(\"id\"),\n",
    "        F.col(\"lang\").alias(\"translation_lang\"),\n",
    "        F.col(\"title\").alias(\"translation_title\")\n",
    "    ]), on=\"id\", how=\"outer\")\n",
    "    # (F.col(\"id\") == F.col(\"from\")), how=\"outer\")\n",
    "page_langlinks.show()\n",
    "\n",
    "without_translation = page_langlinks.filter(F.col(\"translation_lang\").isNull())\n",
    "\n",
    "print(\"total:\", page_langlinks.count())\n",
    "print(\"without translation:\", without_translation.count())"
   ]
  },
  {
   "cell_type": "code",
   "execution_count": 113,
   "id": "b565d73e",
   "metadata": {},
   "outputs": [
    {
     "name": "stdout",
     "output_type": "stream",
     "text": [
      "+-----+---------+--------------------+-----------+----+----------------+-----------------+\n",
      "|   id|namespace|               title|is_redirect|lang|translation_lang|translation_title|\n",
      "+-----+---------+--------------------+-----------+----+----------------+-----------------+\n",
      "|  833|        2|           Calle-SUL|      false|null|            null|             null|\n",
      "| 1591|        1|Geographie_Frankr...|      false|null|            null|             null|\n",
      "| 2366|        0|                IKRK|       true|null|            null|             null|\n",
      "| 3918|        0|             Pendeln|      false|null|            null|             null|\n",
      "| 3997|        0|         Politologie|       true|null|            null|             null|\n",
      "| 5803|        1|Zehn_Gebote/Archiv/2|      false|null|            null|             null|\n",
      "| 7993|        4|          Leitlinien|       true|null|            null|             null|\n",
      "|12046|        1|           Deflation|      false|null|            null|             null|\n",
      "|13285|        1|        Todesursache|      false|null|            null|             null|\n",
      "|15447|        1|       Unendlichkeit|      false|null|            null|             null|\n",
      "|15727|        0|        Distanzgraph|       true|null|            null|             null|\n",
      "|15790|        0|     Schwitzerdütsch|       true|null|            null|             null|\n",
      "|15957|        1|        Ewiges_Leben|      false|null|            null|             null|\n",
      "|17420|        1|           Leertaste|      false|null|            null|             null|\n",
      "|19530|        1|     Einfacher_Graph|      false|null|            null|             null|\n",
      "|20135|        1|  Wahrscheinlichkeit|      false|null|            null|             null|\n",
      "|20924|        0|                 GgT|       true|null|            null|             null|\n",
      "|22346|        1|              Flysch|      false|null|            null|             null|\n",
      "|22373|        0|          Technology|       true|null|            null|             null|\n",
      "|25517|        0|             Leitrad|       true|null|            null|             null|\n",
      "+-----+---------+--------------------+-----------+----+----------------+-----------------+\n",
      "only showing top 20 rows\n",
      "\n"
     ]
    }
   ],
   "source": [
    "without_translation.show()"
   ]
  },
  {
   "cell_type": "code",
   "execution_count": 114,
   "id": "ee66a818",
   "metadata": {},
   "outputs": [
    {
     "name": "stdout",
     "output_type": "stream",
     "text": [
      "+-----+---------+------+-----------+----+----------------+------------------+\n",
      "|   id|namespace| title|is_redirect|lang|translation_lang| translation_title|\n",
      "+-----+---------+------+-----------+----+----------------+------------------+\n",
      "|14570|        0|Pendel|      false|null|              ar|              رقاص|\n",
      "|14570|        0|Pendel|      false|null|             ast|         Pendilexu|\n",
      "|14570|        0|Pendel|      false|null|              az|            Kəfgir|\n",
      "|14570|        0|Pendel|      false|null|              be|           Маятнік|\n",
      "|14570|        0|Pendel|      false|null|              bg|            Махало|\n",
      "|14570|        0|Pendel|      false|null|             bjn|           Timbatu|\n",
      "|14570|        0|Pendel|      false|null|              bn|          সরল দোলক|\n",
      "|14570|        0|Pendel|      false|null|              bs|            Klatno|\n",
      "|14570|        0|Pendel|      false|null|              ca|            Pèndol|\n",
      "|14570|        0|Pendel|      false|null|              cs|           Kyvadlo|\n",
      "|14570|        0|Pendel|      false|null|              da|            Pendul|\n",
      "|14570|        0|Pendel|      false|null|              el|          Εκκρεμές|\n",
      "|14570|        0|Pendel|      false|null|              en|          Pendulum|\n",
      "|14570|        0|Pendel|      false|null|              eo|           Pendolo|\n",
      "|14570|        0|Pendel|      false|null|              es|           Péndulo|\n",
      "|14570|        0|Pendel|      false|null|              et|            Pendel|\n",
      "|14570|        0|Pendel|      false|null|              eu|           Pendulu|\n",
      "|14570|        0|Pendel|      false|null|              fa|              آونگ|\n",
      "|14570|        0|Pendel|      false|null|              fi|           Heiluri|\n",
      "|14570|        0|Pendel|      false|null|              fr|Pendule (physique)|\n",
      "+-----+---------+------+-----------+----+----------------+------------------+\n",
      "only showing top 20 rows\n",
      "\n",
      "110\n"
     ]
    }
   ],
   "source": [
    "page_langlinks.filter(F.col(\"title\") == \"Pendel\").show()\n",
    "print(page_langlinks.filter(F.col(\"title\") == \"Pendel\").count())\n",
    "# Pendel"
   ]
  },
  {
   "cell_type": "code",
   "execution_count": 115,
   "id": "e0d523ad",
   "metadata": {},
   "outputs": [
    {
     "name": "stdout",
     "output_type": "stream",
     "text": [
      "+----+----+-----+\n",
      "|from|lang|title|\n",
      "+----+----+-----+\n",
      "+----+----+-----+\n",
      "\n"
     ]
    }
   ],
   "source": [
    "langlinks = csv_loader.load(\"../nvme/dewiki/wikidatawiki-20211001-langlinks.csv\")\n",
    "langlinks.filter(F.col(\"from\") == \"14570\").show()\n",
    "# langlinks.show()"
   ]
  },
  {
   "cell_type": "code",
   "execution_count": 58,
   "id": "08a9e509",
   "metadata": {},
   "outputs": [
    {
     "name": "stdout",
     "output_type": "stream",
     "text": [
      "+----+------+-----+\n",
      "|from|prefix|title|\n",
      "+----+------+-----+\n",
      "+----+------+-----+\n",
      "\n",
      "2047800 rows\n"
     ]
    }
   ],
   "source": [
    "# \"../nvme/dewiki/dewiki-20210920-iwlinks.csv\"\n",
    "iwlinks = csv_loader.load(\"../nvme/dewiki/wikidatawiki-20211001-iwlinks.csv\")\n",
    "iwlinks.filter(F.col(\"from\") == \"20702\").show()\n",
    "# iwlinks.show()\n",
    "print(iwlinks.count(), \"rows\")"
   ]
  },
  {
   "cell_type": "code",
   "execution_count": 21,
   "id": "f363ee84",
   "metadata": {},
   "outputs": [
    {
     "name": "stdout",
     "output_type": "stream",
     "text": [
      "0\n",
      "+----+----+-----+\n",
      "|from|lang|title|\n",
      "+----+----+-----+\n",
      "+----+----+-----+\n",
      "\n"
     ]
    }
   ],
   "source": [
    "# find one translation from a german article\n",
    "german = df.filter(F.col(\"lang\") == \"fr\")\n",
    "print(german.count())\n",
    "german.show()"
   ]
  },
  {
   "cell_type": "code",
   "execution_count": 108,
   "id": "49a2f6f5",
   "metadata": {
    "scrolled": true
   },
   "outputs": [
    {
     "name": "stdout",
     "output_type": "stream",
     "text": [
      "entries written: 21878895\n"
     ]
    }
   ],
   "source": []
  },
  {
   "cell_type": "code",
   "execution_count": null,
   "id": "5b0aef02",
   "metadata": {},
   "outputs": [],
   "source": [
    "#daily = df \\\n",
    "#    .select(\"domain_code\", \"page_title\", F.col(\"view_count\").alias(\"view_count2\")) \\\n",
    "#    .join(daily, on=[\"domain_code\", \"page_title\"], how=\"outer\") \\\n",
    "#    .fillna(value=0)\n",
    "#daily = daily \\\n",
    "#    .withColumn('view_count_sum', sum([daily[\"view_count\"], daily[\"view_count2\"]])) \\\n",
    "#    .select(\"domain_code\", \"page_title\", F.col(\"view_count_sum\").alias(\"view_count\"))"
   ]
  },
  {
   "cell_type": "code",
   "execution_count": null,
   "id": "a75f05ac",
   "metadata": {},
   "outputs": [],
   "source": []
  }
 ],
 "metadata": {
  "kernelspec": {
   "display_name": "Python 3 (ipykernel)",
   "language": "python",
   "name": "python3"
  },
  "language_info": {
   "codemirror_mode": {
    "name": "ipython",
    "version": 3
   },
   "file_extension": ".py",
   "mimetype": "text/x-python",
   "name": "python",
   "nbconvert_exporter": "python",
   "pygments_lexer": "ipython3",
   "version": "3.9.6"
  }
 },
 "nbformat": 4,
 "nbformat_minor": 5
}
