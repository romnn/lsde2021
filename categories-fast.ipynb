{
 "cells": [
  {
   "cell_type": "code",
   "execution_count": 1,
   "id": "8c91e9fe-904a-4f2d-b88e-3411ab607057",
   "metadata": {},
   "outputs": [],
   "source": [
    "%load_ext autoreload\n",
    "%autoreload 2\n",
    "import pandas as pd\n",
    "import bz2\n",
    "import csv\n",
    "import io\n",
    "import re\n",
    "import time\n",
    "import json\n",
    "import random\n",
    "import requests\n",
    "from tqdm import tqdm\n",
    "import multiprocessing\n",
    "import concurrent.futures\n",
    "import pickle as pkl\n",
    "import numpy as np\n",
    "import networkx as nx\n",
    "from functools import partial, reduce\n",
    "from collections import Counter\n",
    "from pathlib import Path\n",
    "from pprint import pprint\n",
    "from typing import List, Dict\n",
    "import matplotlib.pyplot as plt\n",
    "import lsde2021.csv as csvutil\n",
    "import lsde2021.utils as utils\n",
    "import lsde2021.topics as topics\n",
    "from lsde2021.lang import singularize, pluralize\n",
    "import lsde2021.download as dl\n",
    "from pyspark.sql import SparkSession, DataFrame\n",
    "import pyspark.sql.types as T\n",
    "import pyspark.sql.functions as F"
   ]
  },
  {
   "cell_type": "code",
   "execution_count": 2,
   "id": "bb114a83-d42e-4d4b-b040-0fa94d4b0c2e",
   "metadata": {},
   "outputs": [
    {
     "name": "stdout",
     "output_type": "stream",
     "text": [
      "5998403\n"
     ]
    }
   ],
   "source": [
    "with open(\"../nvme/en_topics/all_page_ids.pkl\", 'rb') as f:\n",
    "    all_page_ids = pkl.load(f)\n",
    "print(len(all_page_ids))"
   ]
  },
  {
   "cell_type": "code",
   "execution_count": 3,
   "id": "9470006c-dc5f-4d94-80a5-ed6ac2607866",
   "metadata": {},
   "outputs": [],
   "source": [
    "def find_topics_worker(page_ids, depth_limit, max_categories):\n",
    "    graph = nx.read_gpickle(f\"../nvme/en-category-tree-without-hidden.pkl\")\n",
    "    start = page_ids[0][0]\n",
    "    \n",
    "    bk_dir = Path(\"../nvme/en_topics/savepoints\")\n",
    "    bk_dir.mkdir(parents=True, exist_ok=True)\n",
    "    \n",
    "    save_every = 5_000\n",
    "    results = dict()\n",
    "    for i, page_id in page_ids:\n",
    "        try:\n",
    "            results[page_id] = topics.find_topics(page_id, g=graph, depth_limit=depth_limit, max_categories=max_categories)\n",
    "        except Exception as e:\n",
    "            print(e)\n",
    "            pass\n",
    "        if i >= save_every and i % save_every == 0:\n",
    "            with open(bk_dir / f\"page_topics_{start}_{i}.pkl\", 'wb') as f:\n",
    "                pkl.dump(results, f, protocol=pkl.HIGHEST_PROTOCOL)\n",
    "    return results"
   ]
  },
  {
   "cell_type": "code",
   "execution_count": 4,
   "id": "fde227d2-7f65-4824-bf58-419651090bce",
   "metadata": {},
   "outputs": [
    {
     "name": "stdout",
     "output_type": "stream",
     "text": [
      "[(0, 12), (1, 25), (2, 39), (3, 290), (4, 303)]\n",
      "worker 0 got assigned 2999202 page ids\n",
      "[(2999202, 28692689), (2999203, 28692719), (2999204, 28692739), (2999205, 28692821), (2999206, 28692828)]\n",
      "worker 1 got assigned 2999201 page ids\n",
      "worker 0 done\n",
      "worker 1 done\n",
      "took 20.05 hours\n",
      "5998403\n",
      "(12,\n",
      " {1: ['Anarchism',\n",
      "      'Socialism',\n",
      "      'Libertarianism',\n",
      "      'Political culture',\n",
      "      'Economic ideologies'],\n",
      "  2: ['Individualism',\n",
      "      'Liberalism',\n",
      "      'Political theories',\n",
      "      'Marxism',\n",
      "      'Far-left politics'],\n",
      "  3: ['Communism',\n",
      "      'Anti-communism',\n",
      "      'Humanities',\n",
      "      'Totalitarianism',\n",
      "      'Social systems'],\n",
      "  4: ['Marxism–leninism',\n",
      "      'Imperialism studies',\n",
      "      'Leninism',\n",
      "      'Economic liberalism',\n",
      "      'Authoritarianism']})\n"
     ]
    }
   ],
   "source": [
    "n_parallel = 2\n",
    "chunk_size = int(np.ceil(len(all_page_ids) / n_parallel))\n",
    "tasks = []\n",
    "start = time.time()\n",
    "\n",
    "with concurrent.futures.ProcessPoolExecutor(max_workers=n_parallel) as executor:\n",
    "    for worker_id in range(n_parallel):\n",
    "        worker_page_ids = all_page_ids[worker_id * chunk_size: (worker_id + 1) * chunk_size]\n",
    "        print(worker_page_ids[:5])\n",
    "        print(\"worker %d got assigned %d page ids\" % (worker_id, len(worker_page_ids)))\n",
    "        tasks.append(executor.submit(partial(find_topics_worker, depth_limit=4, max_categories=5), worker_page_ids))\n",
    "\n",
    "results = dict()\n",
    "for worker_id, task in enumerate(tasks):\n",
    "    results.update(task.result())\n",
    "    print(\"worker %d done\" % worker_id)\n",
    "\n",
    "print(\"took %.2f hours\" % ((time.time() - start)/(60*60)))\n",
    "print(len(results))\n",
    "pprint(list(results.items())[0])"
   ]
  },
  {
   "cell_type": "code",
   "execution_count": 5,
   "id": "ddba36d0-8cef-4f65-b220-9e96fd281921",
   "metadata": {},
   "outputs": [],
   "source": [
    "with open(f\"../nvme/en_topics/topics_final.pkl\", 'wb') as f:\n",
    "    pkl.dump(results, f, protocol=pkl.HIGHEST_PROTOCOL)"
   ]
  },
  {
   "cell_type": "code",
   "execution_count": 6,
   "id": "4cec1b51-5f01-4d72-a52f-8da7353956d4",
   "metadata": {},
   "outputs": [
    {
     "name": "stderr",
     "output_type": "stream",
     "text": [
      "WARNING: An illegal reflective access operation has occurred\n",
      "WARNING: Illegal reflective access by org.apache.spark.unsafe.Platform (file:/usr/local/spark-3.2.0-bin-hadoop3.2/jars/spark-unsafe_2.12-3.2.0.jar) to constructor java.nio.DirectByteBuffer(long,int)\n",
      "WARNING: Please consider reporting this to the maintainers of org.apache.spark.unsafe.Platform\n",
      "WARNING: Use --illegal-access=warn to enable warnings of further illegal reflective access operations\n",
      "WARNING: All illegal access operations will be denied in a future release\n",
      "Using Spark's default log4j profile: org/apache/spark/log4j-defaults.properties\n",
      "Setting default log level to \"WARN\".\n",
      "To adjust logging level use sc.setLogLevel(newLevel). For SparkR, use setLogLevel(newLevel).\n",
      "21/10/25 17:33:31 WARN NativeCodeLoader: Unable to load native-hadoop library for your platform... using builtin-java classes where applicable\n"
     ]
    }
   ],
   "source": [
    "MAX_MEMORY = \"30G\"\n",
    "\n",
    "spark = SparkSession \\\n",
    "    .builder \\\n",
    "    .appName(\"parse-wikipedia-sql-dumps\") \\\n",
    "    .config(\"spark.executor.memory\", MAX_MEMORY) \\\n",
    "    .config(\"spark.driver.memory\", MAX_MEMORY) \\\n",
    "    .config('spark.driver.maxResultSize', MAX_MEMORY) \\\n",
    "    .config('spark.ui.showConsoleProgress', 'false') \\\n",
    "    .getOrCreate()\n",
    "sc = spark.sparkContext"
   ]
  },
  {
   "cell_type": "code",
   "execution_count": 11,
   "id": "afbfd383-edd5-4bf7-9b1c-80cca6ad10d1",
   "metadata": {},
   "outputs": [
    {
     "name": "stdout",
     "output_type": "stream",
     "text": [
      "+-------+--------------------+--------------------+--------------------+--------------------+\n",
      "|page_id|             topics1|             topics2|             topics3|             topics4|\n",
      "+-------+--------------------+--------------------+--------------------+--------------------+\n",
      "|     12|[Anarchism, Socia...|[Individualism, L...|[Communism, Anti-...|[Marxism–leninism...|\n",
      "|     25|[Children, Neurol...|[Neurodevelopment...|[Speech, Childhoo...|[Mental health, P...|\n",
      "|     39|[Radiometry, Elec...|[Climate change, ...|[Environmental is...|[Control engineer...|\n",
      "|    290|[Iso basic latin ...|[Iso basic latin ...|[Latin alphabets,...|[Greek alphabet, ...|\n",
      "|    303|[Alabama, Gulf co...|[Gulf coast, Unit...|[Geography, Unite...|[Politics, Confed...|\n",
      "|    305|[Achilles, Metamo...|[Greek deities, T...|[Indo-european re...|[Stock characters...|\n",
      "|    307|[Abraham lincoln,...|[Abolitionism, Un...|[Human rights, Un...|[Murder, Civil ri...|\n",
      "|    308|[Virtue ethicists...|[Philosophers, An...|[Love, Media stud...|[Intellectualism,...|\n",
      "|    309|[The new york phi...|[Paris, Music, Ge...|[Compositions, Fr...|[Works, Decade, M...|\n",
      "|    316|[Best art directi...|[Culture, Hollywo...|[Nominees, Academ...|[Film, History, M...|\n",
      "|    324|[Academy awards, ...|[Sciences, Motion...|[Film, History, C...|[Conflict (proces...|\n",
      "|    330|[Drama films, Spa...|[Language, Indige...|[Catalonia, Arts,...|[Works, Decade, F...|\n",
      "|    332|[Graeme base, Pic...|[Children's books...|[Picture books, B...|[Fiction, Genre, ...|\n",
      "|    334|       [Time scales]|[Timekeeping, Sca...|[Spacetime, Chron...|[Geometric measur...|\n",
      "|    336|[Altruism, Virtue...|[Social psycholog...|[Principles, Mati...|[Humanities, Repr...|\n",
      "|    339|[American women e...|[American women n...|[Anti-communism, ...|[Fascism, Liberta...|\n",
      "|    340|[Norwegian academ...|[Sciences, Foreig...|[Sciences, Nation...|[Occupation, Fren...|\n",
      "|    344|[Canadian emigran...|[American produce...|[Canadian film di...|[Occupation, Cana...|\n",
      "|    358|[Algeria, Maghreb...|[Establishments, ...|[Arab world, Esta...|[Sovereignty, Geo...|\n",
      "|    359|[Literary charact...|[Literature lists...|[Writer, Literary...|[Upper class, Cre...|\n",
      "+-------+--------------------+--------------------+--------------------+--------------------+\n",
      "only showing top 20 rows\n",
      "\n"
     ]
    },
    {
     "name": "stderr",
     "output_type": "stream",
     "text": [
      "21/10/25 17:41:01 WARN TaskSetManager: Stage 2 contains a task of very large size (120285 KiB). The maximum recommended task size is 1000 KiB.\n"
     ]
    }
   ],
   "source": [
    "schema = T.StructType([\n",
    "    T.StructField('page_id', T.IntegerType(), False),\n",
    "    T.StructField('topics1', T.ArrayType(T.StringType()), False),\n",
    "    T.StructField('topics2', T.ArrayType(T.StringType()), False),\n",
    "    T.StructField('topics3', T.ArrayType(T.StringType()), False),\n",
    "    T.StructField('topics4', T.ArrayType(T.StringType()), False),\n",
    "])\n",
    "\n",
    "df = spark.createDataFrame([\n",
    "    dict(page_id=page_id, topics1=topics.get(1, []), topics2=topics.get(2, []), topics3=topics.get(3, []), topics4=topics.get(4, []))\n",
    "    for page_id, topics in results.items()\n",
    "], schema)\n",
    "df.show()"
   ]
  },
  {
   "cell_type": "code",
   "execution_count": 12,
   "id": "762f04b6-452f-4e67-8fa6-f558084b555e",
   "metadata": {},
   "outputs": [
    {
     "name": "stderr",
     "output_type": "stream",
     "text": [
      "21/10/25 17:41:37 WARN TaskSetManager: Stage 3 contains a task of very large size (120285 KiB). The maximum recommended task size is 1000 KiB.\n"
     ]
    }
   ],
   "source": [
    "df.write.format(\"parquet\").mode(\"overwrite\").save(f\"../nvme/en_topics/topics_final.parquet\")"
   ]
  },
  {
   "cell_type": "code",
   "execution_count": 13,
   "id": "425099b6-6082-4bc5-9bfe-739ad6c567c2",
   "metadata": {},
   "outputs": [
    {
     "name": "stdout",
     "output_type": "stream",
     "text": [
      "+-------+--------------------+--------------------+--------------------+--------------------+\n",
      "|page_id|             topics1|             topics2|             topics3|             topics4|\n",
      "+-------+--------------------+--------------------+--------------------+--------------------+\n",
      "|     12|[Anarchism, Socia...|[Individualism, L...|[Communism, Anti-...|[Marxism–leninism...|\n",
      "|     25|[Children, Neurol...|[Neurodevelopment...|[Speech, Childhoo...|[Mental health, P...|\n",
      "|     39|[Radiometry, Elec...|[Climate change, ...|[Environmental is...|[Control engineer...|\n",
      "|    290|[Iso basic latin ...|[Iso basic latin ...|[Latin alphabets,...|[Greek alphabet, ...|\n",
      "|    303|[Alabama, Gulf co...|[Gulf coast, Unit...|[Geography, Unite...|[Politics, Confed...|\n",
      "|    305|[Achilles, Metamo...|[Greek deities, T...|[Indo-european re...|[Stock characters...|\n",
      "|    307|[Abraham lincoln,...|[Abolitionism, Un...|[Human rights, Un...|[Murder, Civil ri...|\n",
      "|    308|[Virtue ethicists...|[Philosophers, An...|[Love, Media stud...|[Intellectualism,...|\n",
      "|    309|[The new york phi...|[Paris, Music, Ge...|[Compositions, Fr...|[Works, Decade, M...|\n",
      "|    316|[Best art directi...|[Culture, Hollywo...|[Nominees, Academ...|[Film, History, M...|\n",
      "|    324|[Academy awards, ...|[Sciences, Motion...|[Film, History, C...|[Conflict (proces...|\n",
      "|    330|[Drama films, Spa...|[Language, Indige...|[Catalonia, Arts,...|[Works, Decade, F...|\n",
      "|    332|[Graeme base, Pic...|[Children's books...|[Picture books, B...|[Fiction, Genre, ...|\n",
      "|    334|       [Time scales]|[Timekeeping, Sca...|[Spacetime, Chron...|[Geometric measur...|\n",
      "|    336|[Altruism, Virtue...|[Social psycholog...|[Principles, Mati...|[Humanities, Repr...|\n",
      "|    339|[American women e...|[American women n...|[Anti-communism, ...|[Fascism, Liberta...|\n",
      "|    340|[Norwegian academ...|[Sciences, Foreig...|[Sciences, Nation...|[Occupation, Fren...|\n",
      "|    344|[Canadian emigran...|[American produce...|[Canadian film di...|[Occupation, Cana...|\n",
      "|    358|[Algeria, Maghreb...|[Establishments, ...|[Arab world, Esta...|[Sovereignty, Geo...|\n",
      "|    359|[Literary charact...|[Literature lists...|[Writer, Literary...|[Upper class, Cre...|\n",
      "+-------+--------------------+--------------------+--------------------+--------------------+\n",
      "only showing top 20 rows\n",
      "\n"
     ]
    },
    {
     "name": "stderr",
     "output_type": "stream",
     "text": [
      "21/10/25 17:49:57 WARN TaskSetManager: Stage 4 contains a task of very large size (120285 KiB). The maximum recommended task size is 1000 KiB.\n"
     ]
    }
   ],
   "source": [
    "df.show()"
   ]
  },
  {
   "cell_type": "code",
   "execution_count": null,
   "id": "e103fda6-411d-4969-a438-039086ca5742",
   "metadata": {},
   "outputs": [],
   "source": []
  }
 ],
 "metadata": {
  "kernelspec": {
   "display_name": "Python 3 (ipykernel)",
   "language": "python",
   "name": "python3"
  },
  "language_info": {
   "codemirror_mode": {
    "name": "ipython",
    "version": 3
   },
   "file_extension": ".py",
   "mimetype": "text/x-python",
   "name": "python",
   "nbconvert_exporter": "python",
   "pygments_lexer": "ipython3",
   "version": "3.9.7"
  }
 },
 "nbformat": 4,
 "nbformat_minor": 5
}
