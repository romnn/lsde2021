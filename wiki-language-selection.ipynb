{
 "cells": [
  {
   "cell_type": "code",
   "execution_count": null,
   "id": "f26d89de",
   "metadata": {},
   "outputs": [],
   "source": [
    "import requests\n",
    "import json\n",
    "import pandas as pd\n",
    "from pprint import pprint"
   ]
  },
  {
   "cell_type": "code",
   "execution_count": null,
   "id": "a818a4b5",
   "metadata": {},
   "outputs": [],
   "source": [
    "all_wikis = json.loads(\n",
    "    requests.get(\"https://commons.wikimedia.org/w/api.php?action=sitematrix&smtype=language&format=json\").content\n",
    ")\n",
    "pprint(all_wikis)"
   ]
  },
  {
   "cell_type": "code",
   "execution_count": null,
   "id": "7fcd91d2",
   "metadata": {},
   "outputs": [],
   "source": [
    "def get_wikipedia_dbname(sites):\n",
    "    dnames = [site[\"dbname\"] for site in sites if site[\"code\"] == \"wiki\"]\n",
    "    if len(dnames) > 0:\n",
    "        return dnames[0]\n",
    "    return None\n",
    "\n",
    "wikipedia = {\n",
    "    c[\"code\"]: dict(\n",
    "        # code=c[\"code\"],\n",
    "        name=c[\"localname\"],\n",
    "        dbname=get_wikipedia_dbname(c[\"site\"])\n",
    "    )\n",
    "    for idx, c in all_wikis[\"sitematrix\"].items() if (\n",
    "        idx != \"count\" and get_wikipedia_dbname(c[\"site\"]) is not None\n",
    "    )\n",
    "}\n",
    "\n",
    "print(\"total number of languages for wikipedia:\", len(wikipedia))"
   ]
  },
  {
   "cell_type": "code",
   "execution_count": null,
   "id": "079c3670",
   "metadata": {},
   "outputs": [],
   "source": [
    "pprint(wikipedia)"
   ]
  },
  {
   "cell_type": "code",
   "execution_count": null,
   "id": "9f131a9b",
   "metadata": {},
   "outputs": [],
   "source": [
    "# exclude languages we dont know, like Lombard or Lingala\n",
    "# also languages that are dead, like Latin\n",
    "# also languages that were never spoken, such as Esperanto\n",
    "\n",
    "selected_language_codes = [\n",
    "    [\"ar\", \"ary\", \"arz\"], # Arabic, Moroccan Arabic, Egyptian Arabic\n",
    "    [\"az\", \"azb\"], # Azerbaijani, South Azerbaijani\n",
    "    [\"bn\"], # Bangla (also Bengali), spoken by 150 million just in Bangladesh\n",
    "    [\"bg\"], # Bulgarian\n",
    "    [\"bs\"], # Bosnian\n",
    "    [\"ca\"], # Catalan\n",
    "    [\"cs\"], # Czech\n",
    "    [\"da\"], # Danish\n",
    "    [\"de\"], # German\n",
    "    [\"el\"], # Greek\n",
    "    [\"en\"], # English\n",
    "    [\"es\"], # Spanish\n",
    "    [\"et\"], # Estonian\n",
    "    [\"fi\"], # Finnish\n",
    "    [\"fr\"], # French\n",
    "    ['fa'], # Persian\n",
    "    [\"ga\"], # Irish\n",
    "    [\"hi\"], # Hindi\n",
    "    [\"he\"], # Hebrew\n",
    "    [\"hu\"], # Hungarian\n",
    "    ['hr', 'sh'], # Croatian, Serbo-Croatian\n",
    "    [\"hy\", \"hyw\"], # Armenian, Western Armenian\n",
    "    [\"id\"], # Indonesian\n",
    "    [\"is\"], # Icelandic\n",
    "    [\"it\"], # Italian\n",
    "    [\"ja\"], # Japanese\n",
    "    [\"ko\"], # Korean\n",
    "    [\"ku\"], # Kurdish\n",
    "    [\"lb\"], # Luxembourgish\n",
    "    [\"lt\"], # Lithuanian\n",
    "    [\"ms\"], # Malay, spoken by 290 million people in Brunei and in malaysia\n",
    "    # [\"my\"], # Burmese, 65% in Myanmar/Burma but only 33 million speakers\n",
    "    [\"nl\"], # Dutch\n",
    "    [\"no\"], # Norwegian\n",
    "    [\"pl\"], # Polish\n",
    "    [\"pt\"], # Portuguese\n",
    "    [\"ro\"], # Romanian\n",
    "    [\"ru\", \"be\", \"bxr\"], # Russian, Belarusian, Russia Buriat\n",
    "    [\"sl\"], # Slovenian\n",
    "    ['sk'], # Slovak\n",
    "    [\"sq\"], # Albanian\n",
    "    [\"sr\"], # Serbian\n",
    "    [\"sv\"], # Swedish\n",
    "    # ['tn'], # Tswana, spoken by 77% in botswana\n",
    "    [\"tr\"], # Turkish\n",
    "    ['th'], # Thai\n",
    "    [\"uk\"], # Ukrainian\n",
    "    [\"vi\"], # Vietnamese\n",
    "    [\"zh\", \"gan\", \"cdo\", \"zh-classical\", \"zh-min-nan\"], # Chinese, Gan Chinese, Min Dong Chinese, Classical Chinese, Chinese (Min Nan)\n",
    "]\n",
    "selected_language_names = [[wikipedia[c][\"name\"] for c in group] for group in selected_language_codes]\n",
    "pprint(selected_language_names)\n",
    "print(\"total number of selected languages for wikipedia: %d (%d)\" % (\n",
    "    sum([len(group) for group in selected_language_codes]), len(selected_language_codes))\n",
    ")"
   ]
  },
  {
   "cell_type": "code",
   "execution_count": null,
   "id": "3018d1ed",
   "metadata": {},
   "outputs": [],
   "source": [
    "# check if the wikis actually exists\n",
    "wikimedia_dump = \"https://dumps.wikimedia.org/%s/20211001/\"\n",
    "\n",
    "def page_exists(url):\n",
    "    try:\n",
    "        _ = requests.get(url)\n",
    "        return True\n",
    "    except requests.exceptions.HTTPError as e:\n",
    "        print(e)\n",
    "        if e.response.return_code == 404:\n",
    "            return False\n",
    "        raise e\n",
    "\n",
    "existing_language_codes = [\n",
    "    [c for c in group if page_exists(wikimedia_dump % (wikipedia[c][\"dbname\"]))]\n",
    "    for group in selected_language_codes\n",
    "]"
   ]
  },
  {
   "cell_type": "code",
   "execution_count": null,
   "id": "cfd8159d",
   "metadata": {},
   "outputs": [],
   "source": [
    "print(\"total number of selected languages for wikipedia: %d (%d) of %d\" % (\n",
    "    sum([len(group) for group in existing_language_codes]), len(existing_language_codes), len(wikipedia)\n",
    "))"
   ]
  },
  {
   "cell_type": "code",
   "execution_count": null,
   "id": "dea830dd",
   "metadata": {},
   "outputs": [],
   "source": [
    "# export the list of languages we will use\n",
    "selected_wikipedia = {}\n",
    "for group in existing_language_codes:\n",
    "    for c in group:\n",
    "        selected_wikipedia[c] = {**wikipedia[c], **dict(group=group[0])}\n",
    "df = pd.DataFrame.from_dict(selected_wikipedia, orient='index')\n",
    "df.head()\n",
    "df.to_csv(\"./data/languages.csv\", index_label=\"code\")"
   ]
  },
  {
   "cell_type": "code",
   "execution_count": null,
   "id": "e48dbf73",
   "metadata": {},
   "outputs": [],
   "source": []
  }
 ],
 "metadata": {
  "kernelspec": {
   "display_name": "Python 3 (ipykernel)",
   "language": "python",
   "name": "python3"
  },
  "language_info": {
   "codemirror_mode": {
    "name": "ipython",
    "version": 3
   },
   "file_extension": ".py",
   "mimetype": "text/x-python",
   "name": "python",
   "nbconvert_exporter": "python",
   "pygments_lexer": "ipython3",
   "version": "3.9.7"
  }
 },
 "nbformat": 4,
 "nbformat_minor": 5
}
