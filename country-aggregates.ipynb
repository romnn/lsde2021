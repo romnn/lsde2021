{
 "cells": [
  {
   "cell_type": "code",
   "execution_count": 1,
   "id": "501a90f0-a85c-4764-a46d-c16034649d06",
   "metadata": {},
   "outputs": [
    {
     "name": "stdout",
     "output_type": "stream",
     "text": [
      "Collecting colour\n",
      "  Downloading colour-0.1.5-py2.py3-none-any.whl (23 kB)\n",
      "Collecting ruptures\n",
      "  Downloading ruptures-1.1.5-cp39-cp39-manylinux_2_5_x86_64.manylinux1_x86_64.manylinux_2_12_x86_64.manylinux2010_x86_64.whl (971 kB)\n",
      "     |████████████████████████████████| 971 kB 4.9 MB/s            \n",
      "\u001b[?25hRequirement already satisfied: scipy in /opt/conda/lib/python3.9/site-packages (from ruptures) (1.7.1)\n",
      "Requirement already satisfied: numpy in /opt/conda/lib/python3.9/site-packages (from ruptures) (1.21.3)\n",
      "Installing collected packages: ruptures, colour\n",
      "Successfully installed colour-0.1.5 ruptures-1.1.5\n",
      "Note: you may need to restart the kernel to use updated packages.\n"
     ]
    }
   ],
   "source": [
    "%load_ext autoreload\n",
    "%autoreload 2\n",
    "%pip install colour ruptures\n",
    "import pandas as pd\n",
    "import numpy as np\n",
    "import bz2\n",
    "import csv\n",
    "import io\n",
    "import json\n",
    "import re\n",
    "import time\n",
    "import random\n",
    "import requests\n",
    "import datetime\n",
    "from tqdm import tqdm\n",
    "import json\n",
    "from matplotlib import ticker\n",
    "from colour import Color\n",
    "import ruptures as rpt\n",
    "from pathlib import Path\n",
    "from pprint import pprint\n",
    "from typing import List, Dict\n",
    "from dateutil.relativedelta import relativedelta\n",
    "import lsde2021.csv as csvutils\n",
    "import lsde2021.utils as utils\n",
    "import lsde2021.download as dl\n",
    "import lsde2021.changepoints as cp\n",
    "from pyspark.sql import SparkSession\n",
    "import pyspark.sql.types as T\n",
    "import pyspark.sql.functions as F\n",
    "\n",
    "import matplotlib.pyplot as plt\n",
    "\n",
    "plt.rcParams[\"figure.figsize\"] = (20,3)"
   ]
  },
  {
   "cell_type": "code",
   "execution_count": 2,
   "id": "480549ba-ba8e-46b6-a6cd-43857905141c",
   "metadata": {},
   "outputs": [
    {
     "name": "stderr",
     "output_type": "stream",
     "text": [
      "WARNING: An illegal reflective access operation has occurred\n",
      "WARNING: Illegal reflective access by org.apache.spark.unsafe.Platform (file:/usr/local/spark-3.2.0-bin-hadoop3.2/jars/spark-unsafe_2.12-3.2.0.jar) to constructor java.nio.DirectByteBuffer(long,int)\n",
      "WARNING: Please consider reporting this to the maintainers of org.apache.spark.unsafe.Platform\n",
      "WARNING: Use --illegal-access=warn to enable warnings of further illegal reflective access operations\n",
      "WARNING: All illegal access operations will be denied in a future release\n",
      "Using Spark's default log4j profile: org/apache/spark/log4j-defaults.properties\n",
      "Setting default log level to \"WARN\".\n",
      "To adjust logging level use sc.setLogLevel(newLevel). For SparkR, use setLogLevel(newLevel).\n",
      "21/11/03 01:23:55 WARN NativeCodeLoader: Unable to load native-hadoop library for your platform... using builtin-java classes where applicable\n",
      "21/11/03 01:23:58 WARN Utils: Service 'SparkUI' could not bind on port 4040. Attempting port 4041.\n"
     ]
    }
   ],
   "source": [
    "MAX_MEMORY = \"30G\"\n",
    "\n",
    "spark = SparkSession \\\n",
    "    .builder \\\n",
    "    .appName(\"parse-wikipedia-sql-dumps\") \\\n",
    "    .config(\"spark.executor.memory\", MAX_MEMORY) \\\n",
    "    .config(\"spark.driver.memory\", MAX_MEMORY) \\\n",
    "    .config('spark.driver.maxResultSize', MAX_MEMORY) \\\n",
    "    .config('spark.ui.showConsoleProgress', 'false') \\\n",
    "    .getOrCreate()\n",
    "sc = spark.sparkContext"
   ]
  },
  {
   "cell_type": "code",
   "execution_count": 3,
   "id": "42619382-369b-4f49-ad7d-1fbb25b78e80",
   "metadata": {},
   "outputs": [
    {
     "name": "stdout",
     "output_type": "stream",
     "text": [
      "['ar', 'az', 'bg', 'bs', 'ca', 'cs', 'da', 'de', 'el', 'en', 'es', 'et', 'fi', 'fr', 'ga', 'hi', 'he', 'hu', 'hy', 'id', 'is', 'it', 'ja', 'ko', 'ku', 'lb', 'lt', 'nl', 'no', 'pl', 'pt', 'ro', 'ru', 'sl', 'sq', 'sr', 'sv', 'tr', 'uk', 'vi', 'zh']\n"
     ]
    },
    {
     "data": {
      "text/html": [
       "<div>\n",
       "<style scoped>\n",
       "    .dataframe tbody tr th:only-of-type {\n",
       "        vertical-align: middle;\n",
       "    }\n",
       "\n",
       "    .dataframe tbody tr th {\n",
       "        vertical-align: top;\n",
       "    }\n",
       "\n",
       "    .dataframe thead th {\n",
       "        text-align: right;\n",
       "    }\n",
       "</style>\n",
       "<table border=\"1\" class=\"dataframe\">\n",
       "  <thead>\n",
       "    <tr style=\"text-align: right;\">\n",
       "      <th></th>\n",
       "      <th>name</th>\n",
       "      <th>dbname</th>\n",
       "      <th>group</th>\n",
       "    </tr>\n",
       "    <tr>\n",
       "      <th>code</th>\n",
       "      <th></th>\n",
       "      <th></th>\n",
       "      <th></th>\n",
       "    </tr>\n",
       "  </thead>\n",
       "  <tbody>\n",
       "    <tr>\n",
       "      <th>ar</th>\n",
       "      <td>Arabic</td>\n",
       "      <td>arwiki</td>\n",
       "      <td>ar</td>\n",
       "    </tr>\n",
       "    <tr>\n",
       "      <th>ary</th>\n",
       "      <td>Moroccan Arabic</td>\n",
       "      <td>arywiki</td>\n",
       "      <td>ar</td>\n",
       "    </tr>\n",
       "    <tr>\n",
       "      <th>arz</th>\n",
       "      <td>Egyptian Arabic</td>\n",
       "      <td>arzwiki</td>\n",
       "      <td>ar</td>\n",
       "    </tr>\n",
       "    <tr>\n",
       "      <th>az</th>\n",
       "      <td>Azerbaijani</td>\n",
       "      <td>azwiki</td>\n",
       "      <td>az</td>\n",
       "    </tr>\n",
       "    <tr>\n",
       "      <th>azb</th>\n",
       "      <td>South Azerbaijani</td>\n",
       "      <td>azbwiki</td>\n",
       "      <td>az</td>\n",
       "    </tr>\n",
       "  </tbody>\n",
       "</table>\n",
       "</div>"
      ],
      "text/plain": [
       "                   name   dbname group\n",
       "code                                  \n",
       "ar               Arabic   arwiki    ar\n",
       "ary     Moroccan Arabic  arywiki    ar\n",
       "arz     Egyptian Arabic  arzwiki    ar\n",
       "az          Azerbaijani   azwiki    az\n",
       "azb   South Azerbaijani  azbwiki    az"
      ]
     },
     "execution_count": 3,
     "metadata": {},
     "output_type": "execute_result"
    }
   ],
   "source": [
    "languages = pd.read_csv(\"./data/languages.csv\", index_col=\"code\")\n",
    "print(languages[\"group\"].unique().tolist())\n",
    "languages.head()"
   ]
  },
  {
   "cell_type": "code",
   "execution_count": 7,
   "id": "9a4b6ec1-ef55-485e-85c9-51db312d3e5c",
   "metadata": {},
   "outputs": [],
   "source": [
    "stringency = spark.read.format(\"parquet\").load(f\"../nvme/oxcgrt-covid-policy-tracker/OxCGRT_withnotes.parquet\")\n",
    "all_days = list(dl.date_range( datetime.date(2019, 1, 1), datetime.date(2019, 12, 31) ))\n",
    "all_days += list(dl.date_range( datetime.date(2020, 1, 1), datetime.date(2020, 12, 31) ))\n",
    "all_days += list(dl.date_range( datetime.date(2021, 1, 1), datetime.date(2021, 9, 30) ))\n",
    "# print(stringency.select(\"CountryName\").distinct().rdd.flatMap(lambda x: x).collect())"
   ]
  },
  {
   "cell_type": "code",
   "execution_count": 13,
   "id": "2232750a-86cb-4e93-b49d-b1d6abeb7341",
   "metadata": {},
   "outputs": [
    {
     "name": "stdout",
     "output_type": "stream",
     "text": [
      "ar\n",
      "using existing ../nvme/country_pageviews/pageviews_ar.parquet ...\n",
      "az\n",
      "using existing ../nvme/country_pageviews/pageviews_az.parquet ...\n",
      "bg\n",
      "using existing ../nvme/country_pageviews/pageviews_bg.parquet ...\n",
      "bs\n",
      "using existing ../nvme/country_pageviews/pageviews_bs.parquet ...\n",
      "ca\n",
      "using existing ../nvme/country_pageviews/pageviews_ca.parquet ...\n",
      "cs\n",
      "using existing ../nvme/country_pageviews/pageviews_cs.parquet ...\n",
      "da\n",
      "using existing ../nvme/country_pageviews/pageviews_da.parquet ...\n",
      "de\n",
      "using existing ../nvme/country_pageviews/pageviews_de.parquet ...\n",
      "el\n",
      "using existing ../nvme/country_pageviews/pageviews_el.parquet ...\n",
      "en\n",
      "using existing ../nvme/country_pageviews/pageviews_en.parquet ...\n",
      "es\n",
      "using existing ../nvme/country_pageviews/pageviews_es.parquet ...\n",
      "et\n",
      "using existing ../nvme/country_pageviews/pageviews_et.parquet ...\n",
      "fi\n",
      "using existing ../nvme/country_pageviews/pageviews_fi.parquet ...\n",
      "fr\n"
     ]
    },
    {
     "name": "stderr",
     "output_type": "stream",
     "text": [
      "100%|██████████| 1004/1004 [03:22<00:00,  4.95it/s]\n",
      "21/11/03 13:29:16 WARN DAGScheduler: Broadcasting large task binary with size 11.6 MiB\n"
     ]
    },
    {
     "name": "stdout",
     "output_type": "stream",
     "text": [
      "ga\n"
     ]
    },
    {
     "name": "stderr",
     "output_type": "stream",
     "text": [
      " 13%|█▎        | 130/1004 [00:11<01:26, 10.08it/s]21/11/03 13:33:24 WARN SharedInMemoryCache: Evicting cached table partition metadata from memory due to size constraints (spark.sql.hive.filesourcePartitionFileCacheSize = 262144000 bytes). This may impact query planning performance.\n",
      "100%|██████████| 1004/1004 [03:17<00:00,  5.08it/s]\n",
      "21/11/03 13:36:45 WARN DAGScheduler: Broadcasting large task binary with size 11.6 MiB\n"
     ]
    },
    {
     "name": "stdout",
     "output_type": "stream",
     "text": [
      "hi\n"
     ]
    },
    {
     "name": "stderr",
     "output_type": "stream",
     "text": [
      "100%|██████████| 1004/1004 [03:13<00:00,  5.18it/s]\n",
      "21/11/03 13:42:29 WARN DAGScheduler: Broadcasting large task binary with size 11.6 MiB\n"
     ]
    },
    {
     "name": "stdout",
     "output_type": "stream",
     "text": [
      "he\n"
     ]
    },
    {
     "name": "stderr",
     "output_type": "stream",
     "text": [
      "100%|██████████| 1004/1004 [03:13<00:00,  5.18it/s]\n",
      "21/11/03 13:48:23 WARN DAGScheduler: Broadcasting large task binary with size 11.6 MiB\n"
     ]
    },
    {
     "name": "stdout",
     "output_type": "stream",
     "text": [
      "hu\n"
     ]
    },
    {
     "name": "stderr",
     "output_type": "stream",
     "text": [
      "100%|██████████| 1004/1004 [03:13<00:00,  5.19it/s]\n",
      "21/11/03 13:54:30 WARN DAGScheduler: Broadcasting large task binary with size 11.6 MiB\n"
     ]
    },
    {
     "name": "stdout",
     "output_type": "stream",
     "text": [
      "hy\n"
     ]
    },
    {
     "name": "stderr",
     "output_type": "stream",
     "text": [
      "100%|██████████| 1004/1004 [03:11<00:00,  5.24it/s]\n",
      "21/11/03 14:00:38 WARN DAGScheduler: Broadcasting large task binary with size 11.6 MiB\n"
     ]
    },
    {
     "name": "stdout",
     "output_type": "stream",
     "text": [
      "id\n"
     ]
    },
    {
     "name": "stderr",
     "output_type": "stream",
     "text": [
      "100%|██████████| 1004/1004 [03:22<00:00,  4.95it/s]\n",
      "21/11/03 14:06:49 WARN DAGScheduler: Broadcasting large task binary with size 11.6 MiB\n"
     ]
    },
    {
     "name": "stdout",
     "output_type": "stream",
     "text": [
      "is\n"
     ]
    },
    {
     "name": "stderr",
     "output_type": "stream",
     "text": [
      "100%|██████████| 1004/1004 [03:20<00:00,  5.02it/s]\n",
      "21/11/03 14:13:14 WARN DAGScheduler: Broadcasting large task binary with size 11.6 MiB\n"
     ]
    },
    {
     "name": "stdout",
     "output_type": "stream",
     "text": [
      "it\n"
     ]
    },
    {
     "name": "stderr",
     "output_type": "stream",
     "text": [
      "100%|██████████| 1004/1004 [03:14<00:00,  5.16it/s]\n",
      "21/11/03 14:19:01 WARN DAGScheduler: Broadcasting large task binary with size 11.6 MiB\n"
     ]
    },
    {
     "name": "stdout",
     "output_type": "stream",
     "text": [
      "ja\n"
     ]
    },
    {
     "name": "stderr",
     "output_type": "stream",
     "text": [
      "100%|██████████| 1004/1004 [03:14<00:00,  5.16it/s]\n",
      "21/11/03 14:25:57 WARN DAGScheduler: Broadcasting large task binary with size 11.6 MiB\n"
     ]
    },
    {
     "name": "stdout",
     "output_type": "stream",
     "text": [
      "ko\n"
     ]
    },
    {
     "name": "stderr",
     "output_type": "stream",
     "text": [
      "100%|██████████| 1004/1004 [03:12<00:00,  5.21it/s]\n",
      "21/11/03 14:32:47 WARN DAGScheduler: Broadcasting large task binary with size 11.6 MiB\n"
     ]
    },
    {
     "name": "stdout",
     "output_type": "stream",
     "text": [
      "ku\n"
     ]
    },
    {
     "name": "stderr",
     "output_type": "stream",
     "text": [
      "100%|██████████| 1004/1004 [03:11<00:00,  5.23it/s]\n",
      "21/11/03 14:39:10 WARN DAGScheduler: Broadcasting large task binary with size 11.6 MiB\n"
     ]
    },
    {
     "name": "stdout",
     "output_type": "stream",
     "text": [
      "lb\n"
     ]
    },
    {
     "name": "stderr",
     "output_type": "stream",
     "text": [
      "100%|██████████| 1004/1004 [03:11<00:00,  5.25it/s]\n",
      "21/11/03 14:44:53 WARN DAGScheduler: Broadcasting large task binary with size 11.6 MiB\n"
     ]
    },
    {
     "name": "stdout",
     "output_type": "stream",
     "text": [
      "lt\n"
     ]
    },
    {
     "name": "stderr",
     "output_type": "stream",
     "text": [
      "100%|██████████| 1004/1004 [03:17<00:00,  5.09it/s]\n",
      "21/11/03 14:50:45 WARN DAGScheduler: Broadcasting large task binary with size 11.6 MiB\n"
     ]
    },
    {
     "name": "stdout",
     "output_type": "stream",
     "text": [
      "nl\n"
     ]
    },
    {
     "name": "stderr",
     "output_type": "stream",
     "text": [
      "100%|██████████| 1004/1004 [03:16<00:00,  5.11it/s]\n",
      "21/11/03 14:57:01 WARN DAGScheduler: Broadcasting large task binary with size 11.6 MiB\n"
     ]
    },
    {
     "name": "stdout",
     "output_type": "stream",
     "text": [
      "no\n"
     ]
    },
    {
     "name": "stderr",
     "output_type": "stream",
     "text": [
      "100%|██████████| 1004/1004 [03:16<00:00,  5.11it/s]\n",
      "21/11/03 15:03:50 WARN DAGScheduler: Broadcasting large task binary with size 11.6 MiB\n"
     ]
    },
    {
     "name": "stdout",
     "output_type": "stream",
     "text": [
      "pl\n"
     ]
    },
    {
     "name": "stderr",
     "output_type": "stream",
     "text": [
      "100%|██████████| 1004/1004 [03:14<00:00,  5.17it/s]\n",
      "21/11/03 15:10:07 WARN DAGScheduler: Broadcasting large task binary with size 11.6 MiB\n"
     ]
    },
    {
     "name": "stdout",
     "output_type": "stream",
     "text": [
      "pt\n"
     ]
    },
    {
     "name": "stderr",
     "output_type": "stream",
     "text": [
      "100%|██████████| 1004/1004 [03:14<00:00,  5.17it/s]\n",
      "21/11/03 15:16:58 WARN DAGScheduler: Broadcasting large task binary with size 11.6 MiB\n"
     ]
    },
    {
     "name": "stdout",
     "output_type": "stream",
     "text": [
      "ro\n"
     ]
    },
    {
     "name": "stderr",
     "output_type": "stream",
     "text": [
      "100%|██████████| 1004/1004 [03:13<00:00,  5.19it/s]\n",
      "21/11/03 15:23:45 WARN DAGScheduler: Broadcasting large task binary with size 11.6 MiB\n"
     ]
    },
    {
     "name": "stdout",
     "output_type": "stream",
     "text": [
      "ru\n"
     ]
    },
    {
     "name": "stderr",
     "output_type": "stream",
     "text": [
      "100%|██████████| 1004/1004 [03:13<00:00,  5.18it/s]\n",
      "21/11/03 15:30:00 WARN DAGScheduler: Broadcasting large task binary with size 11.6 MiB\n"
     ]
    },
    {
     "name": "stdout",
     "output_type": "stream",
     "text": [
      "sl\n"
     ]
    },
    {
     "name": "stderr",
     "output_type": "stream",
     "text": [
      "100%|██████████| 1004/1004 [03:13<00:00,  5.20it/s]\n",
      "21/11/03 15:37:42 WARN DAGScheduler: Broadcasting large task binary with size 11.6 MiB\n"
     ]
    },
    {
     "name": "stdout",
     "output_type": "stream",
     "text": [
      "sq\n"
     ]
    },
    {
     "name": "stderr",
     "output_type": "stream",
     "text": [
      "100%|██████████| 1004/1004 [03:11<00:00,  5.23it/s]\n",
      "21/11/03 15:43:48 WARN DAGScheduler: Broadcasting large task binary with size 11.6 MiB\n"
     ]
    },
    {
     "name": "stdout",
     "output_type": "stream",
     "text": [
      "sr\n"
     ]
    },
    {
     "name": "stderr",
     "output_type": "stream",
     "text": [
      "100%|██████████| 1004/1004 [03:12<00:00,  5.22it/s]\n",
      "21/11/03 15:49:41 WARN DAGScheduler: Broadcasting large task binary with size 11.6 MiB\n"
     ]
    },
    {
     "name": "stdout",
     "output_type": "stream",
     "text": [
      "sv\n"
     ]
    },
    {
     "name": "stderr",
     "output_type": "stream",
     "text": [
      "100%|██████████| 1004/1004 [03:17<00:00,  5.09it/s]\n",
      "21/11/03 15:55:50 WARN DAGScheduler: Broadcasting large task binary with size 11.6 MiB\n"
     ]
    },
    {
     "name": "stdout",
     "output_type": "stream",
     "text": [
      "tr\n"
     ]
    },
    {
     "name": "stderr",
     "output_type": "stream",
     "text": [
      "100%|██████████| 1004/1004 [03:12<00:00,  5.22it/s]\n",
      "21/11/03 16:02:21 WARN DAGScheduler: Broadcasting large task binary with size 11.6 MiB\n"
     ]
    },
    {
     "name": "stdout",
     "output_type": "stream",
     "text": [
      "uk\n"
     ]
    },
    {
     "name": "stderr",
     "output_type": "stream",
     "text": [
      "100%|██████████| 1004/1004 [03:12<00:00,  5.20it/s]\n",
      "21/11/03 16:08:39 WARN DAGScheduler: Broadcasting large task binary with size 11.6 MiB\n"
     ]
    },
    {
     "name": "stdout",
     "output_type": "stream",
     "text": [
      "vi\n"
     ]
    },
    {
     "name": "stderr",
     "output_type": "stream",
     "text": [
      "100%|██████████| 1004/1004 [03:12<00:00,  5.21it/s]\n",
      "21/11/03 16:15:00 WARN DAGScheduler: Broadcasting large task binary with size 11.6 MiB\n"
     ]
    },
    {
     "name": "stdout",
     "output_type": "stream",
     "text": [
      "zh\n"
     ]
    },
    {
     "name": "stderr",
     "output_type": "stream",
     "text": [
      "100%|██████████| 1004/1004 [03:12<00:00,  5.21it/s]\n",
      "21/11/03 16:21:02 WARN DAGScheduler: Broadcasting large task binary with size 11.6 MiB\n"
     ]
    }
   ],
   "source": [
    "for country_group in languages[\"group\"].unique().tolist():\n",
    "    print(country_group)\n",
    "    output_file = Path(f\"../nvme/country_pageviews/pageviews_{country_group}.parquet\")\n",
    "    if output_file.exists():\n",
    "        print(f\"using existing {output_file} ...\")\n",
    "        continue\n",
    "    \n",
    "    year_df = None\n",
    "    for day in tqdm(all_days):\n",
    "        try:\n",
    "            data = Path(\"../nvme/pageview_complete_per_topic\") / Path(\"/\".join(dl.wikimedia_pageview_complete_local_file(day, monthly=False))).with_suffix(\".parquet\")\n",
    "            df = spark.read.format(\"parquet\").load(str(data / f\"group={country_group}\"))\n",
    "            # df = df.filter(F.col(f\"level{level}_daily_total\").isNotNull())\n",
    "            df = df.withColumn(\"date\", F.lit(day))\n",
    "        except Exception:\n",
    "            continue\n",
    "            \n",
    "        if year_df is None:\n",
    "            year_df = df\n",
    "        else:\n",
    "            year_df = year_df.union(df)\n",
    "    year_df.write.format(\"parquet\").mode(\"overwrite\").save(str(output_file))"
   ]
  },
  {
   "cell_type": "code",
   "execution_count": null,
   "id": "c664844c-b7c3-42a6-9c44-8cc9b3de9d65",
   "metadata": {},
   "outputs": [],
   "source": [
    "test = \"Germany\"\n",
    "# test = \"China\"\n",
    "test = \"Italy\"\n",
    "country_stringency, changepoints = cp.get_change_points(stringency, test)\n",
    "cp.plot_changepoints(\n",
    "    country_stringency.toPandas().set_index(\"Date\"),\n",
    "    changepoints,\n",
    "    title=f\"Changepoints based on stringency index for {test}\"\n",
    ")"
   ]
  },
  {
   "cell_type": "code",
   "execution_count": null,
   "id": "b9be4aec-1dc9-447e-80b9-1cb527131586",
   "metadata": {},
   "outputs": [],
   "source": [
    "china = stringency.filter(\n",
    "    (F.lower(F.col(\"CountryName\")) == country.lower())\n",
    ")\n",
    "# & (F.col(\"Date\") == F.lit(datetime.date(2020,1,30)))\n",
    "china = china.groupBy(\"Date\", \"CountryName\").agg(F.mean(\"StringencyIndex\").alias(\"StringencyIndex\"))\n",
    "china = china.select(\"Date\", \"StringencyIndex\")\n",
    "china = china.sort(F.col(\"Date\").asc())\n",
    "# , \"CountryCode\", \"RegionName\", \"RegionCode\", \"Jurisdiction\")\n",
    "china.show()\n",
    "china = china.toPandas().set_index(\"Date\")\n",
    "print(china.head())\n",
    "plt.plot(china, color=\"blue\", linestyle=\"-\")\n",
    "plt.show()"
   ]
  },
  {
   "cell_type": "code",
   "execution_count": null,
   "id": "9fc14a3c-0d50-4e2a-ba72-0062c6b562ae",
   "metadata": {},
   "outputs": [],
   "source": []
  }
 ],
 "metadata": {
  "kernelspec": {
   "display_name": "Python 3 (ipykernel)",
   "language": "python",
   "name": "python3"
  },
  "language_info": {
   "codemirror_mode": {
    "name": "ipython",
    "version": 3
   },
   "file_extension": ".py",
   "mimetype": "text/x-python",
   "name": "python",
   "nbconvert_exporter": "python",
   "pygments_lexer": "ipython3",
   "version": "3.9.7"
  }
 },
 "nbformat": 4,
 "nbformat_minor": 5
}
