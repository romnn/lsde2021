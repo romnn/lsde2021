{
 "cells": [
  {
   "cell_type": "code",
   "execution_count": null,
   "id": "501a90f0-a85c-4764-a46d-c16034649d06",
   "metadata": {},
   "outputs": [],
   "source": [
    "%load_ext autoreload\n",
    "%autoreload 2\n",
    "%pip install colour ruptures\n",
    "import pandas as pd\n",
    "import numpy as np\n",
    "import bz2\n",
    "import csv\n",
    "import io\n",
    "import json\n",
    "import re\n",
    "import time\n",
    "import random\n",
    "import requests\n",
    "import datetime\n",
    "from tqdm import tqdm\n",
    "import json\n",
    "from matplotlib import ticker\n",
    "from colour import Color\n",
    "import ruptures as rpt\n",
    "from pathlib import Path\n",
    "from pprint import pprint\n",
    "from typing import List, Dict\n",
    "from dateutil.relativedelta import relativedelta\n",
    "import lsde2021.csv as csvutils\n",
    "import lsde2021.utils as utils\n",
    "import lsde2021.download as dl\n",
    "import lsde2021.changepoints as cp\n",
    "from pyspark.sql import SparkSession\n",
    "import pyspark.sql.types as T\n",
    "import pyspark.sql.functions as F\n",
    "\n",
    "import matplotlib.pyplot as plt\n",
    "\n",
    "plt.rcParams[\"figure.figsize\"] = (20,3)"
   ]
  },
  {
   "cell_type": "code",
   "execution_count": null,
   "id": "480549ba-ba8e-46b6-a6cd-43857905141c",
   "metadata": {},
   "outputs": [],
   "source": [
    "MAX_MEMORY = \"30G\"\n",
    "\n",
    "spark = SparkSession \\\n",
    "    .builder \\\n",
    "    .appName(\"parse-wikipedia-sql-dumps\") \\\n",
    "    .config(\"spark.executor.memory\", MAX_MEMORY) \\\n",
    "    .config(\"spark.driver.memory\", MAX_MEMORY) \\\n",
    "    .config('spark.driver.maxResultSize', MAX_MEMORY) \\\n",
    "    .config('spark.ui.showConsoleProgress', 'false') \\\n",
    "    .getOrCreate()\n",
    "sc = spark.sparkContext"
   ]
  },
  {
   "cell_type": "code",
   "execution_count": null,
   "id": "42619382-369b-4f49-ad7d-1fbb25b78e80",
   "metadata": {},
   "outputs": [],
   "source": [
    "languages = pd.read_csv(\"./data/languages.csv\", index_col=\"code\")\n",
    "print(languages[\"group\"].unique().tolist())\n",
    "languages.head()"
   ]
  },
  {
   "cell_type": "code",
   "execution_count": null,
   "id": "9a4b6ec1-ef55-485e-85c9-51db312d3e5c",
   "metadata": {},
   "outputs": [],
   "source": [
    "stringency = spark.read.format(\"parquet\").load(f\"../nvme/oxcgrt-covid-policy-tracker/OxCGRT_withnotes.parquet\")\n",
    "all_days = list(dl.date_range( datetime.date(2019, 1, 1), datetime.date(2019, 12, 31) ))\n",
    "all_days += list(dl.date_range( datetime.date(2020, 1, 1), datetime.date(2020, 12, 31) ))\n",
    "all_days += list(dl.date_range( datetime.date(2021, 1, 1), datetime.date(2021, 12, 31) ))\n",
    "# print(stringency.select(\"CountryName\").distinct().rdd.flatMap(lambda x: x).collect())"
   ]
  },
  {
   "cell_type": "code",
   "execution_count": null,
   "id": "2232750a-86cb-4e93-b49d-b1d6abeb7341",
   "metadata": {},
   "outputs": [],
   "source": [
    "for country_group in languages[\"group\"].unique().tolist():\n",
    "    print(country_group)\n",
    "    year_df = None\n",
    "    for day in tqdm(all_days):\n",
    "        data = Path(\"../nvme/pageview_complete_per_topic\") / Path(\"/\".join(dl.wikimedia_pageview_complete_local_file(day, monthly=False))).with_suffix(\".parquet\")\n",
    "        df = spark.read.format(\"parquet\").load(str(data / f\"group={country_group}\"))\n",
    "        # df = df.filter(F.col(f\"level{level}_daily_total\").isNotNull())\n",
    "        df = df.withColumn(\"date\", F.lit(day))\n",
    "\n",
    "        if year_df is None:\n",
    "            year_df = df\n",
    "        else:\n",
    "            year_df = year_df.union(df)\n",
    "    year_df.write.format(\"parquet\").mode(\"overwrite\") \\\n",
    "        .save(f\"../nvme/country_pageviews/pageviews_{country_group}.parquet\")"
   ]
  },
  {
   "cell_type": "code",
   "execution_count": null,
   "id": "c664844c-b7c3-42a6-9c44-8cc9b3de9d65",
   "metadata": {},
   "outputs": [],
   "source": [
    "test = \"Germany\"\n",
    "# test = \"China\"\n",
    "test = \"Italy\"\n",
    "country_stringency, changepoints = cp.get_change_points(stringency, test)\n",
    "cp.plot_changepoints(\n",
    "    country_stringency.toPandas().set_index(\"Date\"),\n",
    "    changepoints,\n",
    "    title=f\"Changepoints based on stringency index for {test}\"\n",
    ")"
   ]
  },
  {
   "cell_type": "code",
   "execution_count": null,
   "id": "b9be4aec-1dc9-447e-80b9-1cb527131586",
   "metadata": {},
   "outputs": [],
   "source": [
    "china = stringency.filter(\n",
    "    (F.lower(F.col(\"CountryName\")) == country.lower())\n",
    ")\n",
    "# & (F.col(\"Date\") == F.lit(datetime.date(2020,1,30)))\n",
    "china = china.groupBy(\"Date\", \"CountryName\").agg(F.mean(\"StringencyIndex\").alias(\"StringencyIndex\"))\n",
    "china = china.select(\"Date\", \"StringencyIndex\")\n",
    "china = china.sort(F.col(\"Date\").asc())\n",
    "# , \"CountryCode\", \"RegionName\", \"RegionCode\", \"Jurisdiction\")\n",
    "china.show()\n",
    "china = china.toPandas().set_index(\"Date\")\n",
    "print(china.head())\n",
    "plt.plot(china, color=\"blue\", linestyle=\"-\")\n",
    "plt.show()"
   ]
  },
  {
   "cell_type": "code",
   "execution_count": null,
   "id": "9fc14a3c-0d50-4e2a-ba72-0062c6b562ae",
   "metadata": {},
   "outputs": [],
   "source": []
  }
 ],
 "metadata": {
  "kernelspec": {
   "display_name": "Python 3 (ipykernel)",
   "language": "python",
   "name": "python3"
  },
  "language_info": {
   "codemirror_mode": {
    "name": "ipython",
    "version": 3
   },
   "file_extension": ".py",
   "mimetype": "text/x-python",
   "name": "python",
   "nbconvert_exporter": "python",
   "pygments_lexer": "ipython3",
   "version": "3.9.7"
  }
 },
 "nbformat": 4,
 "nbformat_minor": 5
}
