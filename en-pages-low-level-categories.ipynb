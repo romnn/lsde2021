{
 "cells": [
  {
   "cell_type": "code",
   "execution_count": 1,
   "id": "77545b26-a68e-4d10-98dc-d496d9a0dbd8",
   "metadata": {},
   "outputs": [],
   "source": [
    "%load_ext autoreload\n",
    "%autoreload 2\n",
    "import pandas as pd\n",
    "import bz2\n",
    "import csv\n",
    "import io\n",
    "import json\n",
    "import random\n",
    "import requests\n",
    "from pathlib import Path\n",
    "from pprint import pprint\n",
    "from typing import List, Dict\n",
    "import ores.api\n",
    "from ores.utilities import score_revisions\n",
    "import lsde2021.csv as csvutil\n",
    "import lsde2021.utils as utils\n",
    "import lsde2021.download as dl\n",
    "from pyspark.sql import SparkSession\n",
    "from pyspark.sql.types import StructType, StructField, StringType, LongType, IntegerType\n",
    "import pyspark.sql.functions as F"
   ]
  },
  {
   "cell_type": "code",
   "execution_count": 13,
   "id": "452ca4ad-9827-4529-80a1-5bd91cafd39e",
   "metadata": {},
   "outputs": [],
   "source": [
    "MAX_MEMORY = \"60G\"\n",
    "\n",
    "spark = SparkSession \\\n",
    "    .builder \\\n",
    "    .appName(\"parse-wikipedia-sql-dumps\") \\\n",
    "    .config(\"spark.executor.memory\", MAX_MEMORY) \\\n",
    "    .config(\"spark.driver.memory\", MAX_MEMORY) \\\n",
    "    .config('spark.driver.maxResultSize', MAX_MEMORY) \\\n",
    "    .config('spark.ui.showConsoleProgress', 'false') \\\n",
    "    .getOrCreate()\n",
    "sc = spark.sparkContext\n",
    "\n",
    "csv_loader = spark.read.format(\"csv\").options(header='True', inferSchema='True')\n",
    "parquet_reader = spark.read.format(\"parquet\").options(inferSchema='True')"
   ]
  },
  {
   "cell_type": "code",
   "execution_count": 14,
   "id": "71a4ead4-47a3-4e60-9192-c577a8ed98ae",
   "metadata": {},
   "outputs": [],
   "source": [
    "# join categories with english wiki page table\n",
    "wiki = \"enwiki\"\n",
    "pages = parquet_reader.load(f\"../nvme/wikipedia_sql_dumps/{wiki}/20211001/{wiki}-20211001-page.sql.parquet\")\n",
    "categorylinks = parquet_reader.load(f\"../nvme/wikipedia_sql_dumps/{wiki}/20211001/{wiki}-20211001-categorylinks.sql.parquet\")"
   ]
  },
  {
   "cell_type": "code",
   "execution_count": 15,
   "id": "59776f58-c856-478e-aafa-3eededfdfda3",
   "metadata": {},
   "outputs": [
    {
     "name": "stdout",
     "output_type": "stream",
     "text": [
      "+-------+--------------+--------------------+-----------------+----------------+-----------+--------------+--------------+------------------+-----------+--------+------------------+---------+\n",
      "|page_id|page_namespace|          page_title|page_restrictions|page_is_redirect|page_is_new|   page_random|  page_touched|page_links_updated|page_latest|page_len|page_content_model|page_lang|\n",
      "+-------+--------------+--------------------+-----------------+----------------+-----------+--------------+--------------+------------------+-----------+--------+------------------+---------+\n",
      "|1874202|             0|            Freedows|             null|               0|          0|0.125359336589|20210929095510|    20210910090419|  932832600|     171|          wikitext|     NULL|\n",
      "|1874204|             3|         70.48.68.86|             null|               0|          1|0.483543119631|20130829084430|    20190814120806|   17510721|      94|          wikitext|     NULL|\n",
      "|1874206|             0|             Yun_Yat|             null|               0|          0|0.901878976582|20210929181822|    20210922052538| 1026777931|    2801|          wikitext|     NULL|\n",
      "|1874208|             1|       Visionary_art|             null|               0|          0|0.653633869858|20210804211903|    20210805000612|  835225094|   16734|          wikitext|     NULL|\n",
      "|1874210|             0|       Joe_E._Legend|             null|               0|          0|0.328600130404|20210930142827|    20210929211204| 1043886556|   18767|          wikitext|     NULL|\n",
      "|1874212|             4|Articles_for_dele...|             null|               0|          0|0.139601515709|20130830150913|    20190814120809|   50017582|    1594|          wikitext|     NULL|\n",
      "|1874213|             0|       Troitsky_line|             null|               1|          0|0.550873408602|20210926175729|    20190814120812|   83690209|      33|          wikitext|     NULL|\n",
      "|1874215|             2|             Netbios|             null|               0|          0|0.358761527224|20151001000536|    20190814120815|  536009750|      36|          wikitext|     NULL|\n",
      "|1874216|             0|     Chilled_casting|             null|               1|          1|0.028650135036|20210828141741|    20190814120818|   17510729|      23|          wikitext|     NULL|\n",
      "|1874217|             0|     White_cast_iron|             null|               1|          1|0.466695184413|20210828141741|    20190814120821|   17510730|      23|          wikitext|     NULL|\n",
      "+-------+--------------+--------------------+-----------------+----------------+-----------+--------------+--------------+------------------+-----------+--------+------------------+---------+\n",
      "\n",
      "+-------+--------------------+--------------------+-------------------+--------------------+----------------+----+\n",
      "|page_id|       category_name|             sortkey|          timestamp|      sortkey_prefix|       collation|type|\n",
      "+-------+--------------------+--------------------+-------------------+--------------------+----------------+----+\n",
      "|3306201|Song_recordings_p...|HL:02\u0004\t:D\u0004P82\u0004D*B...|2018-09-03 19:23:54|Pride (In the Nam...|uca-default-u-kn|page|\n",
      "|3306201|Song_recordings_p...|HL:02\u0004\t:D\u0004P82\u0004D*B...|2018-09-03 19:23:54|Pride (In the Nam...|uca-default-u-kn|page|\n",
      "|3306201|Songs_in_memory_o...|HL:02\u0004\t:D\u0004P82\u0004D*B...|2018-09-03 19:23:54|Pride (In the Nam...|uca-default-u-kn|page|\n",
      "|3306201|Songs_written_by_...|HL:02\u0004\t:D\u0004P82\u0004D*B...|2018-09-03 19:23:54|Pride (In the Nam...|uca-default-u-kn|page|\n",
      "|3306201|Songs_written_by_...|HL:02\u0004\t:D\u0004P82\u0004D*B...|2018-09-03 19:23:54|Pride (In the Nam...|uca-default-u-kn|page|\n",
      "|3306201|Songs_written_by_...|HL:02\u0004\t:D\u0004P82\u0004D*B...|2018-09-03 19:23:54|Pride (In the Nam...|uca-default-u-kn|page|\n",
      "|3306201|Songs_written_by_...|HL:02\u0004\t:D\u0004P82\u0004D*B...|2018-09-03 19:23:54|Pride (In the Nam...|uca-default-u-kn|page|\n",
      "|3306201|            U2_songs|HL:02\u0004\t:D\u0004P82\u0004D*B...|2018-09-03 19:23:54|Pride (In the Nam...|uca-default-u-kn|page|\n",
      "|3306201|Use_dmy_dates_fro...|HL:02\u0004\t:D\u0004P82\u0004D*B...|2018-09-03 19:23:54|Pride (In the Nam...|uca-default-u-kn|page|\n",
      "|3306202|   All_stub_articles|.8:LFD\u0004\t8ZHFP82P:...|2021-08-03 22:03:03|                null|uca-default-u-kn|page|\n",
      "+-------+--------------------+--------------------+-------------------+--------------------+----------------+----+\n",
      "\n"
     ]
    }
   ],
   "source": [
    "pages.limit(10).show()\n",
    "categorylinks.limit(10).show()"
   ]
  },
  {
   "cell_type": "code",
   "execution_count": 17,
   "id": "20977bd8-0efa-47cc-93c9-c0655e691af6",
   "metadata": {},
   "outputs": [],
   "source": [
    "categorylinks_array = categorylinks.groupBy('page_id').agg(F.collect_list('category_name').alias('category_names'))\n",
    "# .select(\"page_id\", \"category_name\")\n",
    "# .limit(100)\n",
    "pages_with_categories = pages.select(\"page_is_redirect\", \"page_id\", \"page_namespace\", \"page_title\")\n",
    "pages_with_categories = pages_with_categories.join(categorylinks_array, on=\"page_id\", how=\"left\")\n",
    "# \n",
    "# pages_with_categories.limit(10).show()\n",
    "pages_with_categories.write.format(\"parquet\").mode(\"overwrite\").save(f\"../nvme/wikipedia_sql_dumps/{wiki}/20211001/{wiki}-20211001-page-low-level-categories.sql.parquet\")\n",
    "# .select(\"page_id\", \"page_title\", \"category_name\")"
   ]
  },
  {
   "cell_type": "code",
   "execution_count": null,
   "id": "59ddc19e-9e4d-49bf-9e18-e344f1b90d91",
   "metadata": {},
   "outputs": [],
   "source": [
    "sc.stop()"
   ]
  }
 ],
 "metadata": {
  "kernelspec": {
   "display_name": "Python 3 (ipykernel)",
   "language": "python",
   "name": "python3"
  },
  "language_info": {
   "codemirror_mode": {
    "name": "ipython",
    "version": 3
   },
   "file_extension": ".py",
   "mimetype": "text/x-python",
   "name": "python",
   "nbconvert_exporter": "python",
   "pygments_lexer": "ipython3",
   "version": "3.9.7"
  }
 },
 "nbformat": 4,
 "nbformat_minor": 5
}
